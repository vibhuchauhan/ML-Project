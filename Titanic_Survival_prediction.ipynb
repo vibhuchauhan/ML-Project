{
  "metadata": {
    "kernelspec": {
      "language": "python",
      "display_name": "Python 3",
      "name": "python3"
    },
    "language_info": {
      "name": "python",
      "version": "3.10.14",
      "mimetype": "text/x-python",
      "codemirror_mode": {
        "name": "ipython",
        "version": 3
      },
      "pygments_lexer": "ipython3",
      "nbconvert_exporter": "python",
      "file_extension": ".py"
    },
    "kaggle": {
      "accelerator": "none",
      "dataSources": [
        {
          "sourceId": 9794801,
          "sourceType": "datasetVersion",
          "datasetId": 6002374
        }
      ],
      "dockerImageVersionId": 30786,
      "isInternetEnabled": false,
      "language": "python",
      "sourceType": "notebook",
      "isGpuEnabled": false
    },
    "colab": {
      "name": "Titanic Survival prediction",
      "provenance": []
    }
  },
  "nbformat_minor": 0,
  "nbformat": 4,
  "cells": [
    {
      "cell_type": "code",
      "source": [
        "import numpy as np\n",
        "import pandas as pd\n",
        "import matplotlib.pyplot as plt\n",
        "import seaborn as sns"
      ],
      "metadata": {
        "trusted": true,
        "execution": {
          "iopub.status.busy": "2024-11-03T13:04:06.968677Z",
          "iopub.execute_input": "2024-11-03T13:04:06.969261Z",
          "iopub.status.idle": "2024-11-03T13:04:10.56991Z",
          "shell.execute_reply.started": "2024-11-03T13:04:06.969199Z",
          "shell.execute_reply": "2024-11-03T13:04:10.568708Z"
        },
        "id": "B-8FTwC5dvuc"
      },
      "outputs": [],
      "execution_count": null
    },
    {
      "cell_type": "code",
      "source": [
        "titanic=pd.read_csv(\"/kaggle/input/titanic-survival/Titanic-Dataset.csv\")"
      ],
      "metadata": {
        "trusted": true,
        "execution": {
          "iopub.status.busy": "2024-11-03T13:06:02.108323Z",
          "iopub.execute_input": "2024-11-03T13:06:02.108779Z",
          "iopub.status.idle": "2024-11-03T13:06:02.121443Z",
          "shell.execute_reply.started": "2024-11-03T13:06:02.108735Z",
          "shell.execute_reply": "2024-11-03T13:06:02.119986Z"
        },
        "id": "9JiKrv7vdvuc"
      },
      "outputs": [],
      "execution_count": null
    },
    {
      "cell_type": "code",
      "source": [
        "#Default theme\n",
        "sns.set_theme(context='notebook',\n",
        "              style='whitegrid',\n",
        "              palette='rainbow',\n",
        "              font='Lucida Calligraphy',\n",
        "              font_scale=1.5,\n",
        "              rc=None)\n",
        "import matplotlib\n",
        "matplotlib.rcParams['figure.figsize'] = [4, 4]\n",
        "matplotlib.rcParams.update({'font.size': 15})\n",
        "matplotlib.rcParams['font.family'] = 'sans-serif'"
      ],
      "metadata": {
        "trusted": true,
        "execution": {
          "iopub.status.busy": "2024-11-03T13:11:35.218345Z",
          "iopub.execute_input": "2024-11-03T13:11:35.219288Z",
          "iopub.status.idle": "2024-11-03T13:11:35.228114Z",
          "shell.execute_reply.started": "2024-11-03T13:11:35.219235Z",
          "shell.execute_reply": "2024-11-03T13:11:35.226679Z"
        },
        "id": "9WZmP5drdvud"
      },
      "outputs": [],
      "execution_count": null
    },
    {
      "cell_type": "code",
      "source": [
        "titanic.head()"
      ],
      "metadata": {
        "trusted": true,
        "execution": {
          "iopub.status.busy": "2024-11-03T13:10:19.448188Z",
          "iopub.execute_input": "2024-11-03T13:10:19.448727Z",
          "iopub.status.idle": "2024-11-03T13:10:19.469262Z",
          "shell.execute_reply.started": "2024-11-03T13:10:19.448678Z",
          "shell.execute_reply": "2024-11-03T13:10:19.467833Z"
        },
        "id": "JdJEACHjdvud"
      },
      "outputs": [],
      "execution_count": null
    },
    {
      "cell_type": "code",
      "source": [
        "titanic.tail()"
      ],
      "metadata": {
        "trusted": true,
        "execution": {
          "iopub.status.busy": "2024-11-03T13:10:24.208022Z",
          "iopub.execute_input": "2024-11-03T13:10:24.208476Z",
          "iopub.status.idle": "2024-11-03T13:10:24.227501Z",
          "shell.execute_reply.started": "2024-11-03T13:10:24.208436Z",
          "shell.execute_reply": "2024-11-03T13:10:24.226327Z"
        },
        "id": "iwu19chKdvue"
      },
      "outputs": [],
      "execution_count": null
    },
    {
      "cell_type": "code",
      "source": [
        "titanic.info()"
      ],
      "metadata": {
        "trusted": true,
        "execution": {
          "iopub.status.busy": "2024-11-03T13:10:26.908123Z",
          "iopub.execute_input": "2024-11-03T13:10:26.908602Z",
          "iopub.status.idle": "2024-11-03T13:10:26.922944Z",
          "shell.execute_reply.started": "2024-11-03T13:10:26.908555Z",
          "shell.execute_reply": "2024-11-03T13:10:26.921632Z"
        },
        "id": "qHrz6Yy_dvuf"
      },
      "outputs": [],
      "execution_count": null
    },
    {
      "cell_type": "code",
      "source": [
        "titanic.describe()"
      ],
      "metadata": {
        "trusted": true,
        "execution": {
          "iopub.status.busy": "2024-11-03T13:10:29.758041Z",
          "iopub.execute_input": "2024-11-03T13:10:29.758571Z",
          "iopub.status.idle": "2024-11-03T13:10:29.79446Z",
          "shell.execute_reply.started": "2024-11-03T13:10:29.758526Z",
          "shell.execute_reply": "2024-11-03T13:10:29.793274Z"
        },
        "id": "gRLpmm2Hdvuf"
      },
      "outputs": [],
      "execution_count": null
    },
    {
      "cell_type": "code",
      "source": [
        "matplotlib.rcParams.update({'font.size': 10})\n",
        "\n",
        "titanic.dtypes.value_counts().plot.pie(explode=[0.1, 0.1, 0.1],\n",
        "                                       autopct='%1.2f%%',\n",
        "                                       shadow=True)\n",
        "plt.title('Data Type',\n",
        "          color='Green',\n",
        "          loc='center',\n",
        "          font='Lucida Calligraphy');"
      ],
      "metadata": {
        "trusted": true,
        "execution": {
          "iopub.status.busy": "2024-11-03T13:17:39.938164Z",
          "iopub.execute_input": "2024-11-03T13:17:39.938612Z",
          "iopub.status.idle": "2024-11-03T13:17:40.155899Z",
          "shell.execute_reply.started": "2024-11-03T13:17:39.93857Z",
          "shell.execute_reply": "2024-11-03T13:17:40.153996Z"
        },
        "id": "os73BFrwdvug"
      },
      "outputs": [],
      "execution_count": null
    },
    {
      "cell_type": "code",
      "source": [
        "ax = sns.set(style=\"whitegrid\")\n",
        "ax = sns.countplot(data=titanic,x='Embarked');\n",
        "ax.bar_label(ax.containers[0])\n",
        "\n",
        "plt.title('Embarked Distribution',color='Red',loc='center',font='Lucida Calligraphy');\n",
        "plt.xlabel('Embarked',color='Green',loc='center',font='Lucida Calligraphy')\n",
        "plt.ylabel('Count',color='Red',loc='center',font='Lucida Calligraphy');"
      ],
      "metadata": {
        "trusted": true,
        "execution": {
          "iopub.status.busy": "2024-11-03T13:11:42.598255Z",
          "iopub.execute_input": "2024-11-03T13:11:42.599176Z",
          "iopub.status.idle": "2024-11-03T13:11:42.959353Z",
          "shell.execute_reply.started": "2024-11-03T13:11:42.599104Z",
          "shell.execute_reply": "2024-11-03T13:11:42.958043Z"
        },
        "id": "sosPsjhSdvuh"
      },
      "outputs": [],
      "execution_count": null
    },
    {
      "cell_type": "code",
      "source": [
        "matplotlib.rcParams.update({'font.size': 10})\n",
        "titanic['Embarked'].value_counts().plot.pie(explode=[0.1, 0.1, 0.1],\n",
        "                                     autopct='%1.2f%%',\n",
        "                                     shadow=True)\n",
        "plt.title('Embarked Distribution',color='Red',loc='center');"
      ],
      "metadata": {
        "trusted": true,
        "execution": {
          "iopub.status.busy": "2024-11-03T13:11:56.338511Z",
          "iopub.execute_input": "2024-11-03T13:11:56.338982Z",
          "iopub.status.idle": "2024-11-03T13:11:56.566014Z",
          "shell.execute_reply.started": "2024-11-03T13:11:56.338932Z",
          "shell.execute_reply": "2024-11-03T13:11:56.564237Z"
        },
        "id": "ldWRXKDzdvui"
      },
      "outputs": [],
      "execution_count": null
    },
    {
      "cell_type": "code",
      "source": [
        "matplotlib.rcParams.update({'font.size': 10})\n",
        "titanic['Sex'].value_counts().plot.pie(explode=[0.1, 0.1],\n",
        "                                     autopct='%1.2f%%',\n",
        "                                     shadow=True)\n",
        "plt.title('Gender Distribution',color='Red',loc='center');"
      ],
      "metadata": {
        "trusted": true,
        "execution": {
          "iopub.status.busy": "2024-11-03T13:12:21.608228Z",
          "iopub.execute_input": "2024-11-03T13:12:21.608652Z",
          "iopub.status.idle": "2024-11-03T13:12:21.816406Z",
          "shell.execute_reply.started": "2024-11-03T13:12:21.608614Z",
          "shell.execute_reply": "2024-11-03T13:12:21.814433Z"
        },
        "id": "UEQGZW7Ldvui"
      },
      "outputs": [],
      "execution_count": null
    },
    {
      "cell_type": "code",
      "source": [
        "matplotlib.rcParams.update({'font.size': 10})\n",
        "titanic['Survived'].value_counts().plot.pie(explode=[0.1, 0.1],\n",
        "                                     autopct='%1.2f%%',\n",
        "                                     shadow=True)\n",
        "plt.title('Survived',color='Red',loc='center');"
      ],
      "metadata": {
        "trusted": true,
        "execution": {
          "iopub.status.busy": "2024-11-03T13:13:03.588446Z",
          "iopub.execute_input": "2024-11-03T13:13:03.589401Z",
          "iopub.status.idle": "2024-11-03T13:13:03.80187Z",
          "shell.execute_reply.started": "2024-11-03T13:13:03.589338Z",
          "shell.execute_reply": "2024-11-03T13:13:03.800526Z"
        },
        "id": "gk2nA7ccdvui"
      },
      "outputs": [],
      "execution_count": null
    },
    {
      "cell_type": "code",
      "source": [
        "## Combining Data\n",
        "titanic.agg(\n",
        "    {\n",
        "        \"Fare\": [\"min\", \"max\", \"median\", \"mean\",\"skew\",'std'],\n",
        "        \"Age\": [\"min\", \"max\", \"median\", \"mean\",\"skew\",'std'],\n",
        "    }\n",
        ")"
      ],
      "metadata": {
        "trusted": true,
        "execution": {
          "iopub.status.busy": "2024-11-03T13:26:34.581711Z",
          "iopub.execute_input": "2024-11-03T13:26:34.58212Z",
          "iopub.status.idle": "2024-11-03T13:26:34.60215Z",
          "shell.execute_reply.started": "2024-11-03T13:26:34.58208Z",
          "shell.execute_reply": "2024-11-03T13:26:34.601187Z"
        },
        "id": "etqsgJvedvui"
      },
      "outputs": [],
      "execution_count": null
    },
    {
      "cell_type": "code",
      "source": [
        "titanic_fig = sns.FacetGrid(titanic, col='Sex', hue='Survived',height=6,aspect=1.6)\n",
        "titanic_fig.map(plt.scatter,'Fare','Age' )\n",
        "plt.show()"
      ],
      "metadata": {
        "trusted": true,
        "execution": {
          "iopub.status.busy": "2024-11-03T13:31:34.076622Z",
          "iopub.execute_input": "2024-11-03T13:31:34.077658Z",
          "iopub.status.idle": "2024-11-03T13:31:35.07759Z",
          "shell.execute_reply.started": "2024-11-03T13:31:34.077612Z",
          "shell.execute_reply": "2024-11-03T13:31:35.076427Z"
        },
        "id": "t0owsVmDdvuj"
      },
      "outputs": [],
      "execution_count": null
    },
    {
      "cell_type": "code",
      "source": [
        "plt.figure(figsize=(8,3))\n",
        "\n",
        "titanic.nunique().plot(kind='bar')\n",
        "plt.title('No of unique values in the dataset')\n",
        "plt.show()"
      ],
      "metadata": {
        "trusted": true,
        "execution": {
          "iopub.status.busy": "2024-11-03T13:32:34.631579Z",
          "iopub.execute_input": "2024-11-03T13:32:34.632563Z",
          "iopub.status.idle": "2024-11-03T13:32:34.928368Z",
          "shell.execute_reply.started": "2024-11-03T13:32:34.632519Z",
          "shell.execute_reply": "2024-11-03T13:32:34.927336Z"
        },
        "id": "iO2bRp2tdvuj"
      },
      "outputs": [],
      "execution_count": null
    },
    {
      "cell_type": "code",
      "source": [
        "sns.pairplot(titanic,vars=['Age','Fare','Survived'],hue='Sex',palette='plasma',aspect=1.9);"
      ],
      "metadata": {
        "trusted": true,
        "execution": {
          "iopub.status.busy": "2024-11-03T13:32:59.666485Z",
          "iopub.execute_input": "2024-11-03T13:32:59.667621Z",
          "iopub.status.idle": "2024-11-03T13:33:04.65642Z",
          "shell.execute_reply.started": "2024-11-03T13:32:59.667563Z",
          "shell.execute_reply": "2024-11-03T13:33:04.655412Z"
        },
        "id": "bvTz-F2udvuj"
      },
      "outputs": [],
      "execution_count": null
    },
    {
      "cell_type": "code",
      "source": [
        "numerical = titanic.select_dtypes(include=['number']).columns\n",
        "categorical = titanic.select_dtypes(include=['object']).columns\n",
        "\n",
        "print('Numerical  :',numerical)\n",
        "print(\"**********\"*10)\n",
        "print(\"Categorical:\",categorical)"
      ],
      "metadata": {
        "trusted": true,
        "execution": {
          "iopub.status.busy": "2024-11-03T13:33:18.346556Z",
          "iopub.execute_input": "2024-11-03T13:33:18.346969Z",
          "iopub.status.idle": "2024-11-03T13:33:18.355488Z",
          "shell.execute_reply.started": "2024-11-03T13:33:18.34693Z",
          "shell.execute_reply": "2024-11-03T13:33:18.354324Z"
        },
        "id": "ijTCap_udvuj"
      },
      "outputs": [],
      "execution_count": null
    },
    {
      "cell_type": "code",
      "source": [
        "for col in titanic[['Sex', 'Embarked','Survived','Pclass','SibSp','Parch']]:\n",
        "    print(titanic[col].value_counts())\n",
        "    print(\"****\"*7)"
      ],
      "metadata": {
        "trusted": true,
        "execution": {
          "iopub.status.busy": "2024-11-03T13:33:46.186308Z",
          "iopub.execute_input": "2024-11-03T13:33:46.187298Z",
          "iopub.status.idle": "2024-11-03T13:33:46.198655Z",
          "shell.execute_reply.started": "2024-11-03T13:33:46.187238Z",
          "shell.execute_reply": "2024-11-03T13:33:46.197417Z"
        },
        "id": "ZC1IXXApdvuj"
      },
      "outputs": [],
      "execution_count": null
    },
    {
      "cell_type": "code",
      "source": [
        "titanic.isnull().mean().sort_values(ascending=False)*100"
      ],
      "metadata": {
        "trusted": true,
        "execution": {
          "iopub.status.busy": "2024-11-03T13:36:54.661914Z",
          "iopub.execute_input": "2024-11-03T13:36:54.662361Z",
          "iopub.status.idle": "2024-11-03T13:36:54.673116Z",
          "shell.execute_reply.started": "2024-11-03T13:36:54.662313Z",
          "shell.execute_reply": "2024-11-03T13:36:54.672052Z"
        },
        "id": "g2VgyCoRdvuj"
      },
      "outputs": [],
      "execution_count": null
    },
    {
      "cell_type": "code",
      "source": [
        "def missing_value (df):\n",
        "    missing_Number = df.isnull().sum().sort_values(ascending=False)[df.isnull().sum().sort_values(ascending=False) !=0]\n",
        "    missing_percent=round((df.isnull().sum()/df.isnull().count())*100,2)[round((df.isnull().sum()/df.isnull().count())*100,2) !=0]\n",
        "    missing = pd.concat([missing_Number,missing_percent],axis=1,keys=['Missing Number','Missing Percentage'])\n",
        "    return missing"
      ],
      "metadata": {
        "trusted": true,
        "execution": {
          "iopub.status.busy": "2024-11-03T13:37:44.071549Z",
          "iopub.execute_input": "2024-11-03T13:37:44.072625Z",
          "iopub.status.idle": "2024-11-03T13:37:44.079159Z",
          "shell.execute_reply.started": "2024-11-03T13:37:44.072568Z",
          "shell.execute_reply": "2024-11-03T13:37:44.077852Z"
        },
        "id": "vC6-4U2Idvuk"
      },
      "outputs": [],
      "execution_count": null
    },
    {
      "cell_type": "code",
      "source": [
        "missing_values = titanic.isnull().sum()\n",
        "missing_values = missing_values[missing_values > 0]\n",
        "missing_values.sort_values(inplace=True)\n",
        "missing_values.plot.pie(explode=[0.1, 0.1, 0.1],\n",
        "                        autopct='%1.2f%%',\n",
        "                        shadow=True)\n",
        "\n",
        "plt.title('Missing Values',\n",
        "          color='Green',\n",
        "          loc='center',\n",
        "          font='Lucida Calligraphy');"
      ],
      "metadata": {
        "trusted": true,
        "execution": {
          "iopub.status.busy": "2024-11-03T13:38:24.821567Z",
          "iopub.execute_input": "2024-11-03T13:38:24.821992Z",
          "iopub.status.idle": "2024-11-03T13:38:25.017752Z",
          "shell.execute_reply.started": "2024-11-03T13:38:24.821953Z",
          "shell.execute_reply": "2024-11-03T13:38:25.016577Z"
        },
        "id": "nveKKnXqdvuk"
      },
      "outputs": [],
      "execution_count": null
    },
    {
      "cell_type": "code",
      "source": [
        "sns.heatmap(titanic.isnull(),cmap='cool');"
      ],
      "metadata": {
        "trusted": true,
        "execution": {
          "iopub.status.busy": "2024-11-03T13:38:54.94134Z",
          "iopub.execute_input": "2024-11-03T13:38:54.94172Z",
          "iopub.status.idle": "2024-11-03T13:38:55.545743Z",
          "shell.execute_reply.started": "2024-11-03T13:38:54.941685Z",
          "shell.execute_reply": "2024-11-03T13:38:55.544547Z"
        },
        "id": "qbi5jQ7_dvuk"
      },
      "outputs": [],
      "execution_count": null
    },
    {
      "cell_type": "code",
      "source": [
        "import missingno as msno\n",
        "msno.matrix(titanic)\n",
        "plt.show()"
      ],
      "metadata": {
        "trusted": true,
        "execution": {
          "iopub.status.busy": "2024-11-03T13:39:07.386703Z",
          "iopub.execute_input": "2024-11-03T13:39:07.387085Z",
          "iopub.status.idle": "2024-11-03T13:39:08.176741Z",
          "shell.execute_reply.started": "2024-11-03T13:39:07.38705Z",
          "shell.execute_reply": "2024-11-03T13:39:08.175651Z"
        },
        "id": "cHngD1Q3dvuk"
      },
      "outputs": [],
      "execution_count": null
    },
    {
      "cell_type": "code",
      "source": [
        "import missingno\n",
        "missingno.bar(titanic, color=\"dodgerblue\", sort=\"ascending\", figsize=(10,5), fontsize=12);"
      ],
      "metadata": {
        "trusted": true,
        "execution": {
          "iopub.status.busy": "2024-11-03T14:05:27.646322Z",
          "iopub.execute_input": "2024-11-03T14:05:27.646708Z",
          "iopub.status.idle": "2024-11-03T14:05:28.536385Z",
          "shell.execute_reply.started": "2024-11-03T14:05:27.646672Z",
          "shell.execute_reply": "2024-11-03T14:05:28.5352Z"
        },
        "id": "ppfqYuUrdvuk"
      },
      "outputs": [],
      "execution_count": null
    },
    {
      "cell_type": "code",
      "source": [
        "missingno.matrix(titanic, figsize=(10,5), fontsize=12, color=(1, 0.38, 0.27));"
      ],
      "metadata": {
        "trusted": true,
        "execution": {
          "iopub.status.busy": "2024-11-03T14:07:20.669717Z",
          "iopub.execute_input": "2024-11-03T14:07:20.670816Z",
          "iopub.status.idle": "2024-11-03T14:07:21.093199Z",
          "shell.execute_reply.started": "2024-11-03T14:07:20.670767Z",
          "shell.execute_reply": "2024-11-03T14:07:21.092046Z"
        },
        "id": "1Om73U6vdvuk"
      },
      "outputs": [],
      "execution_count": null
    },
    {
      "cell_type": "markdown",
      "source": [
        "**Filling/Removing Missing Values**"
      ],
      "metadata": {
        "id": "FOwnlAAUdvul"
      }
    },
    {
      "cell_type": "code",
      "source": [
        "titanic['Age'] = titanic['Age'].fillna(titanic['Age'].mean())"
      ],
      "metadata": {
        "trusted": true,
        "execution": {
          "iopub.status.busy": "2024-11-03T14:08:17.034056Z",
          "iopub.execute_input": "2024-11-03T14:08:17.035148Z",
          "iopub.status.idle": "2024-11-03T14:08:17.040604Z",
          "shell.execute_reply.started": "2024-11-03T14:08:17.035089Z",
          "shell.execute_reply": "2024-11-03T14:08:17.039593Z"
        },
        "id": "6uh5pKQxdvum"
      },
      "outputs": [],
      "execution_count": null
    },
    {
      "cell_type": "code",
      "source": [
        "titanic[titanic['Embarked_Q'].isnull()]\n",
        "titanic[titanic['Embarked_S'].isnull()]"
      ],
      "metadata": {
        "trusted": true,
        "execution": {
          "iopub.status.busy": "2024-11-03T14:25:29.939304Z",
          "iopub.execute_input": "2024-11-03T14:25:29.939706Z",
          "iopub.status.idle": "2024-11-03T14:25:29.951919Z",
          "shell.execute_reply.started": "2024-11-03T14:25:29.939664Z",
          "shell.execute_reply": "2024-11-03T14:25:29.950503Z"
        },
        "id": "8Y1Mg1f8dvum"
      },
      "outputs": [],
      "execution_count": null
    },
    {
      "cell_type": "code",
      "source": [
        "titanic['Embarked_Q'] = titanic['Embarked_Q'].fillna(method='bfill')\n",
        "titanic['Embarked_S'] = titanic['Embarked_S'].fillna(method='bfill')"
      ],
      "metadata": {
        "trusted": true,
        "execution": {
          "iopub.status.busy": "2024-11-03T14:26:02.094256Z",
          "iopub.execute_input": "2024-11-03T14:26:02.095316Z",
          "iopub.status.idle": "2024-11-03T14:26:02.106469Z",
          "shell.execute_reply.started": "2024-11-03T14:26:02.095268Z",
          "shell.execute_reply": "2024-11-03T14:26:02.105354Z"
        },
        "id": "Uq5b4hvXdvun"
      },
      "outputs": [],
      "execution_count": null
    },
    {
      "cell_type": "code",
      "source": [
        "titanic = titanic.drop(['Cabin'],axis=1)"
      ],
      "metadata": {
        "trusted": true,
        "id": "-1jaIi9-dvun"
      },
      "outputs": [],
      "execution_count": null
    },
    {
      "cell_type": "code",
      "source": [
        "import missingno as msno\n",
        "msno.matrix(titanic)\n",
        "plt.show()"
      ],
      "metadata": {
        "trusted": true,
        "execution": {
          "iopub.status.busy": "2024-11-03T14:26:11.778928Z",
          "iopub.execute_input": "2024-11-03T14:26:11.779346Z",
          "iopub.status.idle": "2024-11-03T14:26:12.38913Z",
          "shell.execute_reply.started": "2024-11-03T14:26:11.779308Z",
          "shell.execute_reply": "2024-11-03T14:26:12.387811Z"
        },
        "id": "d7-GDVXydvun"
      },
      "outputs": [],
      "execution_count": null
    },
    {
      "cell_type": "code",
      "source": [
        "titanic.isnull().sum()\n"
      ],
      "metadata": {
        "trusted": true,
        "execution": {
          "iopub.status.busy": "2024-11-03T14:30:29.044384Z",
          "iopub.execute_input": "2024-11-03T14:30:29.044822Z",
          "iopub.status.idle": "2024-11-03T14:30:29.054267Z",
          "shell.execute_reply.started": "2024-11-03T14:30:29.044779Z",
          "shell.execute_reply": "2024-11-03T14:30:29.053052Z"
        },
        "id": "tFcMertKdvun"
      },
      "outputs": [],
      "execution_count": null
    },
    {
      "cell_type": "markdown",
      "source": [
        "**Filling/Removing Missing Values**"
      ],
      "metadata": {
        "id": "gOzmAjS_dvuo"
      }
    },
    {
      "cell_type": "code",
      "source": [
        "titanic = titanic.drop(['Name','Ticket'],axis=1)"
      ],
      "metadata": {
        "trusted": true,
        "execution": {
          "iopub.status.busy": "2024-11-03T13:42:14.381349Z",
          "iopub.execute_input": "2024-11-03T13:42:14.381765Z",
          "iopub.status.idle": "2024-11-03T13:42:14.388048Z",
          "shell.execute_reply.started": "2024-11-03T13:42:14.381727Z",
          "shell.execute_reply": "2024-11-03T13:42:14.386807Z"
        },
        "id": "Nx8zyoCtdvuo"
      },
      "outputs": [],
      "execution_count": null
    },
    {
      "cell_type": "code",
      "source": [
        "titanic.head()"
      ],
      "metadata": {
        "trusted": true,
        "execution": {
          "iopub.status.busy": "2024-11-03T13:42:22.677212Z",
          "iopub.execute_input": "2024-11-03T13:42:22.677608Z",
          "iopub.status.idle": "2024-11-03T13:42:22.691854Z",
          "shell.execute_reply.started": "2024-11-03T13:42:22.677571Z",
          "shell.execute_reply": "2024-11-03T13:42:22.690758Z"
        },
        "id": "R96YZ3GUdvuo"
      },
      "outputs": [],
      "execution_count": null
    },
    {
      "cell_type": "markdown",
      "source": [
        "**Categorical feature (Sex & Embarked) is converted into numerical feature by using pandas dummy method**"
      ],
      "metadata": {
        "id": "_ZX6MubPdvuo"
      }
    },
    {
      "cell_type": "code",
      "source": [
        "titanic = pd.get_dummies(titanic,columns=['Sex','Embarked'],drop_first=True)\n",
        "titanic.head()"
      ],
      "metadata": {
        "trusted": true,
        "id": "I1ZM4E1Hdvuo"
      },
      "outputs": [],
      "execution_count": null
    },
    {
      "cell_type": "markdown",
      "source": [
        "**Train Test Split**"
      ],
      "metadata": {
        "id": "GM2nP_gCdvux"
      }
    },
    {
      "cell_type": "code",
      "source": [
        "X = titanic.drop(['Survived'],axis=1)\n",
        "y = titanic['Survived']"
      ],
      "metadata": {
        "trusted": true,
        "execution": {
          "iopub.status.busy": "2024-11-03T13:43:33.61658Z",
          "iopub.execute_input": "2024-11-03T13:43:33.616977Z",
          "iopub.status.idle": "2024-11-03T13:43:33.623111Z",
          "shell.execute_reply.started": "2024-11-03T13:43:33.61694Z",
          "shell.execute_reply": "2024-11-03T13:43:33.622058Z"
        },
        "id": "MpN1PuMRdvux"
      },
      "outputs": [],
      "execution_count": null
    },
    {
      "cell_type": "code",
      "source": [
        "from sklearn.model_selection import train_test_split\n",
        "X_train,X_test,y_train,y_test = train_test_split(X,y,test_size=0.2,random_state=21)"
      ],
      "metadata": {
        "trusted": true,
        "execution": {
          "iopub.status.busy": "2024-11-03T13:43:43.331401Z",
          "iopub.execute_input": "2024-11-03T13:43:43.332327Z",
          "iopub.status.idle": "2024-11-03T13:43:43.557752Z",
          "shell.execute_reply.started": "2024-11-03T13:43:43.332283Z",
          "shell.execute_reply": "2024-11-03T13:43:43.556597Z"
        },
        "id": "ld7-sn8vdvux"
      },
      "outputs": [],
      "execution_count": null
    },
    {
      "cell_type": "markdown",
      "source": [
        "**#Standardizing the data**"
      ],
      "metadata": {
        "id": "Gd4ubnftdvux"
      }
    },
    {
      "cell_type": "code",
      "source": [
        "from sklearn.preprocessing import MinMaxScaler\n",
        "scaler = MinMaxScaler()\n",
        "X_train = scaler.fit_transform(X_train)\n",
        "X_test = scaler.transform(X_test)\n",
        "\n",
        "X_train = pd.DataFrame(X_train, columns=X.columns)\n",
        "X_test = pd.DataFrame(X_test, columns=X.columns)"
      ],
      "metadata": {
        "trusted": true,
        "execution": {
          "iopub.status.busy": "2024-11-03T13:44:55.796494Z",
          "iopub.execute_input": "2024-11-03T13:44:55.797232Z",
          "iopub.status.idle": "2024-11-03T13:44:55.810519Z",
          "shell.execute_reply.started": "2024-11-03T13:44:55.797188Z",
          "shell.execute_reply": "2024-11-03T13:44:55.809365Z"
        },
        "id": "12qSpChMdvux"
      },
      "outputs": [],
      "execution_count": null
    },
    {
      "cell_type": "code",
      "source": [
        "display(X_train.head())\n",
        "display(X_test.head())"
      ],
      "metadata": {
        "trusted": true,
        "execution": {
          "iopub.status.busy": "2024-11-03T13:45:05.51643Z",
          "iopub.execute_input": "2024-11-03T13:45:05.517494Z",
          "iopub.status.idle": "2024-11-03T13:45:05.544733Z",
          "shell.execute_reply.started": "2024-11-03T13:45:05.517447Z",
          "shell.execute_reply": "2024-11-03T13:45:05.543462Z"
        },
        "id": "4BrgKG5gdvuy"
      },
      "outputs": [],
      "execution_count": null
    },
    {
      "cell_type": "markdown",
      "source": [
        "**Model Implementation**"
      ],
      "metadata": {
        "id": "dD-a1adcdvuy"
      }
    },
    {
      "cell_type": "code",
      "source": [
        "#Logistic Regression"
      ],
      "metadata": {
        "trusted": true,
        "id": "xBLF6mrBdvuy"
      },
      "outputs": [],
      "execution_count": null
    },
    {
      "cell_type": "code",
      "source": [
        "from sklearn.metrics import accuracy_score\n",
        "# Logistic Regression\n",
        "from sklearn.linear_model import LogisticRegression\n",
        "logreg = LogisticRegression()\n",
        "logreg.fit(X_train, y_train)\n",
        "Y_pred = logreg.predict(X_test)\n",
        "\n",
        "log_train = round(logreg.score(X_train, y_train) * 100, 2)\n",
        "log_accuracy = round(accuracy_score(Y_pred, y_test) * 100, 2)\n",
        "\n",
        "print(\"Training Accuracy    :\",log_train)\n",
        "print(\"Model Accuracy Score :\",log_accuracy)"
      ],
      "metadata": {
        "trusted": true,
        "execution": {
          "iopub.status.busy": "2024-11-03T13:50:50.781577Z",
          "iopub.execute_input": "2024-11-03T13:50:50.782018Z",
          "iopub.status.idle": "2024-11-03T13:50:50.819782Z",
          "shell.execute_reply.started": "2024-11-03T13:50:50.781978Z",
          "shell.execute_reply": "2024-11-03T13:50:50.818772Z"
        },
        "id": "vmf8Juz2dvuz"
      },
      "outputs": [],
      "execution_count": null
    },
    {
      "cell_type": "code",
      "source": [
        "# Support Vector Machines"
      ],
      "metadata": {
        "trusted": true,
        "id": "4Hk__20Kdvuz"
      },
      "outputs": [],
      "execution_count": null
    },
    {
      "cell_type": "code",
      "source": [
        "# Support Vector Machines\n",
        "from sklearn.svm import SVC\n",
        "svc = SVC()\n",
        "svc.fit(X_train, y_train)\n",
        "Y_pred = svc.predict(X_test)\n",
        "\n",
        "svc_train = round(svc.score(X_train, y_train) * 100, 2)\n",
        "svc_accuracy = round(accuracy_score(Y_pred, y_test) * 100, 2)\n",
        "\n",
        "print(\"Training Accuracy     :\",svc_train)\n",
        "print(\"Model Accuracy Score  :\",svc_accuracy)"
      ],
      "metadata": {
        "trusted": true,
        "execution": {
          "iopub.status.busy": "2024-11-03T13:51:11.711523Z",
          "iopub.execute_input": "2024-11-03T13:51:11.711925Z",
          "iopub.status.idle": "2024-11-03T13:51:11.756378Z",
          "shell.execute_reply.started": "2024-11-03T13:51:11.711887Z",
          "shell.execute_reply": "2024-11-03T13:51:11.755353Z"
        },
        "id": "B891-poOdvuz"
      },
      "outputs": [],
      "execution_count": null
    },
    {
      "cell_type": "markdown",
      "source": [
        "**KNeighborsClassifier**"
      ],
      "metadata": {
        "id": "JlOtV1CTdvu0"
      }
    },
    {
      "cell_type": "code",
      "source": [
        "from sklearn.neighbors import KNeighborsClassifier\n",
        "knn = KNeighborsClassifier(n_neighbors = 3)\n",
        "knn.fit(X_train, y_train)\n",
        "Y_pred = knn.predict(X_test)\n",
        "\n",
        "knn_train = round(knn.score(X_train, y_train) * 100, 2)\n",
        "knn_accuracy = round(accuracy_score(Y_pred, y_test) * 100, 2)\n",
        "\n",
        "print(\"Training Accuracy     :\",knn_train)\n",
        "print(\"Model Accuracy Score  :\",knn_accuracy)"
      ],
      "metadata": {
        "trusted": true,
        "execution": {
          "iopub.status.busy": "2024-11-03T13:51:28.086478Z",
          "iopub.execute_input": "2024-11-03T13:51:28.086869Z",
          "iopub.status.idle": "2024-11-03T13:51:28.21933Z",
          "shell.execute_reply.started": "2024-11-03T13:51:28.086834Z",
          "shell.execute_reply": "2024-11-03T13:51:28.21815Z"
        },
        "id": "UbAHZESWdvu0"
      },
      "outputs": [],
      "execution_count": null
    },
    {
      "cell_type": "markdown",
      "source": [
        "**Random forest classifier**"
      ],
      "metadata": {
        "id": "NSvo2fn8dvu0"
      }
    },
    {
      "cell_type": "code",
      "source": [
        "# Random Forest\n",
        "from sklearn.ensemble import RandomForestClassifier\n",
        "random_forest = RandomForestClassifier(n_estimators=100)\n",
        "random_forest.fit(X_train, y_train)\n",
        "Y_pred = random_forest.predict(X_test)\n",
        "random_forest.score(X_train, y_train)\n",
        "\n",
        "random_forest_train = round(random_forest.score(X_train, y_train) * 100, 2)\n",
        "random_forest_accuracy = round(accuracy_score(Y_pred, y_test) * 100, 2)\n",
        "\n",
        "print(\"Training Accuracy     :\",random_forest_train)\n",
        "print(\"Model Accuracy Score  :\",random_forest_accuracy)"
      ],
      "metadata": {
        "trusted": true,
        "execution": {
          "iopub.status.busy": "2024-11-03T13:54:07.381685Z",
          "iopub.execute_input": "2024-11-03T13:54:07.38212Z",
          "iopub.status.idle": "2024-11-03T13:54:07.75829Z",
          "shell.execute_reply.started": "2024-11-03T13:54:07.382081Z",
          "shell.execute_reply": "2024-11-03T13:54:07.757257Z"
        },
        "id": "vEc7SVVXdvu0"
      },
      "outputs": [],
      "execution_count": null
    }
  ]
}