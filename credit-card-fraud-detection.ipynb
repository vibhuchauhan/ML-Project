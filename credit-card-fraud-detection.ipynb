{
 "cells": [
  {
   "cell_type": "code",
   "execution_count": 1,
   "id": "dcbb2ad8",
   "metadata": {
    "execution": {
     "iopub.execute_input": "2024-11-03T12:26:57.155934Z",
     "iopub.status.busy": "2024-11-03T12:26:57.155452Z",
     "iopub.status.idle": "2024-11-03T12:26:59.591236Z",
     "shell.execute_reply": "2024-11-03T12:26:59.589834Z"
    },
    "papermill": {
     "duration": 2.45764,
     "end_time": "2024-11-03T12:26:59.594197",
     "exception": false,
     "start_time": "2024-11-03T12:26:57.136557",
     "status": "completed"
    },
    "tags": []
   },
   "outputs": [],
   "source": [
    "import pandas as pd\n",
    "import numpy as np\n",
    "import matplotlib.pyplot as plt\n",
    "import sklearn as sns\n"
   ]
  },
  {
   "cell_type": "code",
   "execution_count": 2,
   "id": "6e073452",
   "metadata": {
    "execution": {
     "iopub.execute_input": "2024-11-03T12:26:59.631868Z",
     "iopub.status.busy": "2024-11-03T12:26:59.630454Z",
     "iopub.status.idle": "2024-11-03T12:27:04.305891Z",
     "shell.execute_reply": "2024-11-03T12:27:04.304721Z"
    },
    "papermill": {
     "duration": 4.698045,
     "end_time": "2024-11-03T12:27:04.309089",
     "exception": false,
     "start_time": "2024-11-03T12:26:59.611044",
     "status": "completed"
    },
    "tags": []
   },
   "outputs": [],
   "source": [
    "data=pd.read_csv(\"/kaggle/input/credit-card/creditcard.csv\")"
   ]
  },
  {
   "cell_type": "code",
   "execution_count": 3,
   "id": "45e68ab9",
   "metadata": {
    "execution": {
     "iopub.execute_input": "2024-11-03T12:27:04.343689Z",
     "iopub.status.busy": "2024-11-03T12:27:04.343224Z",
     "iopub.status.idle": "2024-11-03T12:27:04.388894Z",
     "shell.execute_reply": "2024-11-03T12:27:04.387669Z"
    },
    "papermill": {
     "duration": 0.066199,
     "end_time": "2024-11-03T12:27:04.391744",
     "exception": false,
     "start_time": "2024-11-03T12:27:04.325545",
     "status": "completed"
    },
    "tags": []
   },
   "outputs": [
    {
     "data": {
      "text/html": [
       "<div>\n",
       "<style scoped>\n",
       "    .dataframe tbody tr th:only-of-type {\n",
       "        vertical-align: middle;\n",
       "    }\n",
       "\n",
       "    .dataframe tbody tr th {\n",
       "        vertical-align: top;\n",
       "    }\n",
       "\n",
       "    .dataframe thead th {\n",
       "        text-align: right;\n",
       "    }\n",
       "</style>\n",
       "<table border=\"1\" class=\"dataframe\">\n",
       "  <thead>\n",
       "    <tr style=\"text-align: right;\">\n",
       "      <th></th>\n",
       "      <th>Time</th>\n",
       "      <th>V1</th>\n",
       "      <th>V2</th>\n",
       "      <th>V3</th>\n",
       "      <th>V4</th>\n",
       "      <th>V5</th>\n",
       "      <th>V6</th>\n",
       "      <th>V7</th>\n",
       "      <th>V8</th>\n",
       "      <th>V9</th>\n",
       "      <th>...</th>\n",
       "      <th>V21</th>\n",
       "      <th>V22</th>\n",
       "      <th>V23</th>\n",
       "      <th>V24</th>\n",
       "      <th>V25</th>\n",
       "      <th>V26</th>\n",
       "      <th>V27</th>\n",
       "      <th>V28</th>\n",
       "      <th>Amount</th>\n",
       "      <th>Class</th>\n",
       "    </tr>\n",
       "  </thead>\n",
       "  <tbody>\n",
       "    <tr>\n",
       "      <th>0</th>\n",
       "      <td>0.0</td>\n",
       "      <td>-1.359807</td>\n",
       "      <td>-0.072781</td>\n",
       "      <td>2.536347</td>\n",
       "      <td>1.378155</td>\n",
       "      <td>-0.338321</td>\n",
       "      <td>0.462388</td>\n",
       "      <td>0.239599</td>\n",
       "      <td>0.098698</td>\n",
       "      <td>0.363787</td>\n",
       "      <td>...</td>\n",
       "      <td>-0.018307</td>\n",
       "      <td>0.277838</td>\n",
       "      <td>-0.110474</td>\n",
       "      <td>0.066928</td>\n",
       "      <td>0.128539</td>\n",
       "      <td>-0.189115</td>\n",
       "      <td>0.133558</td>\n",
       "      <td>-0.021053</td>\n",
       "      <td>149.62</td>\n",
       "      <td>0</td>\n",
       "    </tr>\n",
       "    <tr>\n",
       "      <th>1</th>\n",
       "      <td>0.0</td>\n",
       "      <td>1.191857</td>\n",
       "      <td>0.266151</td>\n",
       "      <td>0.166480</td>\n",
       "      <td>0.448154</td>\n",
       "      <td>0.060018</td>\n",
       "      <td>-0.082361</td>\n",
       "      <td>-0.078803</td>\n",
       "      <td>0.085102</td>\n",
       "      <td>-0.255425</td>\n",
       "      <td>...</td>\n",
       "      <td>-0.225775</td>\n",
       "      <td>-0.638672</td>\n",
       "      <td>0.101288</td>\n",
       "      <td>-0.339846</td>\n",
       "      <td>0.167170</td>\n",
       "      <td>0.125895</td>\n",
       "      <td>-0.008983</td>\n",
       "      <td>0.014724</td>\n",
       "      <td>2.69</td>\n",
       "      <td>0</td>\n",
       "    </tr>\n",
       "    <tr>\n",
       "      <th>2</th>\n",
       "      <td>1.0</td>\n",
       "      <td>-1.358354</td>\n",
       "      <td>-1.340163</td>\n",
       "      <td>1.773209</td>\n",
       "      <td>0.379780</td>\n",
       "      <td>-0.503198</td>\n",
       "      <td>1.800499</td>\n",
       "      <td>0.791461</td>\n",
       "      <td>0.247676</td>\n",
       "      <td>-1.514654</td>\n",
       "      <td>...</td>\n",
       "      <td>0.247998</td>\n",
       "      <td>0.771679</td>\n",
       "      <td>0.909412</td>\n",
       "      <td>-0.689281</td>\n",
       "      <td>-0.327642</td>\n",
       "      <td>-0.139097</td>\n",
       "      <td>-0.055353</td>\n",
       "      <td>-0.059752</td>\n",
       "      <td>378.66</td>\n",
       "      <td>0</td>\n",
       "    </tr>\n",
       "    <tr>\n",
       "      <th>3</th>\n",
       "      <td>1.0</td>\n",
       "      <td>-0.966272</td>\n",
       "      <td>-0.185226</td>\n",
       "      <td>1.792993</td>\n",
       "      <td>-0.863291</td>\n",
       "      <td>-0.010309</td>\n",
       "      <td>1.247203</td>\n",
       "      <td>0.237609</td>\n",
       "      <td>0.377436</td>\n",
       "      <td>-1.387024</td>\n",
       "      <td>...</td>\n",
       "      <td>-0.108300</td>\n",
       "      <td>0.005274</td>\n",
       "      <td>-0.190321</td>\n",
       "      <td>-1.175575</td>\n",
       "      <td>0.647376</td>\n",
       "      <td>-0.221929</td>\n",
       "      <td>0.062723</td>\n",
       "      <td>0.061458</td>\n",
       "      <td>123.50</td>\n",
       "      <td>0</td>\n",
       "    </tr>\n",
       "    <tr>\n",
       "      <th>4</th>\n",
       "      <td>2.0</td>\n",
       "      <td>-1.158233</td>\n",
       "      <td>0.877737</td>\n",
       "      <td>1.548718</td>\n",
       "      <td>0.403034</td>\n",
       "      <td>-0.407193</td>\n",
       "      <td>0.095921</td>\n",
       "      <td>0.592941</td>\n",
       "      <td>-0.270533</td>\n",
       "      <td>0.817739</td>\n",
       "      <td>...</td>\n",
       "      <td>-0.009431</td>\n",
       "      <td>0.798278</td>\n",
       "      <td>-0.137458</td>\n",
       "      <td>0.141267</td>\n",
       "      <td>-0.206010</td>\n",
       "      <td>0.502292</td>\n",
       "      <td>0.219422</td>\n",
       "      <td>0.215153</td>\n",
       "      <td>69.99</td>\n",
       "      <td>0</td>\n",
       "    </tr>\n",
       "  </tbody>\n",
       "</table>\n",
       "<p>5 rows × 31 columns</p>\n",
       "</div>"
      ],
      "text/plain": [
       "   Time        V1        V2        V3        V4        V5        V6        V7  \\\n",
       "0   0.0 -1.359807 -0.072781  2.536347  1.378155 -0.338321  0.462388  0.239599   \n",
       "1   0.0  1.191857  0.266151  0.166480  0.448154  0.060018 -0.082361 -0.078803   \n",
       "2   1.0 -1.358354 -1.340163  1.773209  0.379780 -0.503198  1.800499  0.791461   \n",
       "3   1.0 -0.966272 -0.185226  1.792993 -0.863291 -0.010309  1.247203  0.237609   \n",
       "4   2.0 -1.158233  0.877737  1.548718  0.403034 -0.407193  0.095921  0.592941   \n",
       "\n",
       "         V8        V9  ...       V21       V22       V23       V24       V25  \\\n",
       "0  0.098698  0.363787  ... -0.018307  0.277838 -0.110474  0.066928  0.128539   \n",
       "1  0.085102 -0.255425  ... -0.225775 -0.638672  0.101288 -0.339846  0.167170   \n",
       "2  0.247676 -1.514654  ...  0.247998  0.771679  0.909412 -0.689281 -0.327642   \n",
       "3  0.377436 -1.387024  ... -0.108300  0.005274 -0.190321 -1.175575  0.647376   \n",
       "4 -0.270533  0.817739  ... -0.009431  0.798278 -0.137458  0.141267 -0.206010   \n",
       "\n",
       "        V26       V27       V28  Amount  Class  \n",
       "0 -0.189115  0.133558 -0.021053  149.62      0  \n",
       "1  0.125895 -0.008983  0.014724    2.69      0  \n",
       "2 -0.139097 -0.055353 -0.059752  378.66      0  \n",
       "3 -0.221929  0.062723  0.061458  123.50      0  \n",
       "4  0.502292  0.219422  0.215153   69.99      0  \n",
       "\n",
       "[5 rows x 31 columns]"
      ]
     },
     "execution_count": 3,
     "metadata": {},
     "output_type": "execute_result"
    }
   ],
   "source": [
    "data.head()"
   ]
  },
  {
   "cell_type": "code",
   "execution_count": 4,
   "id": "a7f127ec",
   "metadata": {
    "execution": {
     "iopub.execute_input": "2024-11-03T12:27:04.427637Z",
     "iopub.status.busy": "2024-11-03T12:27:04.427161Z",
     "iopub.status.idle": "2024-11-03T12:27:04.433109Z",
     "shell.execute_reply": "2024-11-03T12:27:04.431603Z"
    },
    "papermill": {
     "duration": 0.026996,
     "end_time": "2024-11-03T12:27:04.435703",
     "exception": false,
     "start_time": "2024-11-03T12:27:04.408707",
     "status": "completed"
    },
    "tags": []
   },
   "outputs": [],
   "source": [
    "pd.options.display.max_columns = None"
   ]
  },
  {
   "cell_type": "code",
   "execution_count": 5,
   "id": "894600ff",
   "metadata": {
    "execution": {
     "iopub.execute_input": "2024-11-03T12:27:04.472444Z",
     "iopub.status.busy": "2024-11-03T12:27:04.471172Z",
     "iopub.status.idle": "2024-11-03T12:27:04.507589Z",
     "shell.execute_reply": "2024-11-03T12:27:04.506332Z"
    },
    "papermill": {
     "duration": 0.057541,
     "end_time": "2024-11-03T12:27:04.510364",
     "exception": false,
     "start_time": "2024-11-03T12:27:04.452823",
     "status": "completed"
    },
    "tags": []
   },
   "outputs": [
    {
     "data": {
      "text/html": [
       "<div>\n",
       "<style scoped>\n",
       "    .dataframe tbody tr th:only-of-type {\n",
       "        vertical-align: middle;\n",
       "    }\n",
       "\n",
       "    .dataframe tbody tr th {\n",
       "        vertical-align: top;\n",
       "    }\n",
       "\n",
       "    .dataframe thead th {\n",
       "        text-align: right;\n",
       "    }\n",
       "</style>\n",
       "<table border=\"1\" class=\"dataframe\">\n",
       "  <thead>\n",
       "    <tr style=\"text-align: right;\">\n",
       "      <th></th>\n",
       "      <th>Time</th>\n",
       "      <th>V1</th>\n",
       "      <th>V2</th>\n",
       "      <th>V3</th>\n",
       "      <th>V4</th>\n",
       "      <th>V5</th>\n",
       "      <th>V6</th>\n",
       "      <th>V7</th>\n",
       "      <th>V8</th>\n",
       "      <th>V9</th>\n",
       "      <th>V10</th>\n",
       "      <th>V11</th>\n",
       "      <th>V12</th>\n",
       "      <th>V13</th>\n",
       "      <th>V14</th>\n",
       "      <th>V15</th>\n",
       "      <th>V16</th>\n",
       "      <th>V17</th>\n",
       "      <th>V18</th>\n",
       "      <th>V19</th>\n",
       "      <th>V20</th>\n",
       "      <th>V21</th>\n",
       "      <th>V22</th>\n",
       "      <th>V23</th>\n",
       "      <th>V24</th>\n",
       "      <th>V25</th>\n",
       "      <th>V26</th>\n",
       "      <th>V27</th>\n",
       "      <th>V28</th>\n",
       "      <th>Amount</th>\n",
       "      <th>Class</th>\n",
       "    </tr>\n",
       "  </thead>\n",
       "  <tbody>\n",
       "    <tr>\n",
       "      <th>0</th>\n",
       "      <td>0.0</td>\n",
       "      <td>-1.359807</td>\n",
       "      <td>-0.072781</td>\n",
       "      <td>2.536347</td>\n",
       "      <td>1.378155</td>\n",
       "      <td>-0.338321</td>\n",
       "      <td>0.462388</td>\n",
       "      <td>0.239599</td>\n",
       "      <td>0.098698</td>\n",
       "      <td>0.363787</td>\n",
       "      <td>0.090794</td>\n",
       "      <td>-0.551600</td>\n",
       "      <td>-0.617801</td>\n",
       "      <td>-0.991390</td>\n",
       "      <td>-0.311169</td>\n",
       "      <td>1.468177</td>\n",
       "      <td>-0.470401</td>\n",
       "      <td>0.207971</td>\n",
       "      <td>0.025791</td>\n",
       "      <td>0.403993</td>\n",
       "      <td>0.251412</td>\n",
       "      <td>-0.018307</td>\n",
       "      <td>0.277838</td>\n",
       "      <td>-0.110474</td>\n",
       "      <td>0.066928</td>\n",
       "      <td>0.128539</td>\n",
       "      <td>-0.189115</td>\n",
       "      <td>0.133558</td>\n",
       "      <td>-0.021053</td>\n",
       "      <td>149.62</td>\n",
       "      <td>0</td>\n",
       "    </tr>\n",
       "    <tr>\n",
       "      <th>1</th>\n",
       "      <td>0.0</td>\n",
       "      <td>1.191857</td>\n",
       "      <td>0.266151</td>\n",
       "      <td>0.166480</td>\n",
       "      <td>0.448154</td>\n",
       "      <td>0.060018</td>\n",
       "      <td>-0.082361</td>\n",
       "      <td>-0.078803</td>\n",
       "      <td>0.085102</td>\n",
       "      <td>-0.255425</td>\n",
       "      <td>-0.166974</td>\n",
       "      <td>1.612727</td>\n",
       "      <td>1.065235</td>\n",
       "      <td>0.489095</td>\n",
       "      <td>-0.143772</td>\n",
       "      <td>0.635558</td>\n",
       "      <td>0.463917</td>\n",
       "      <td>-0.114805</td>\n",
       "      <td>-0.183361</td>\n",
       "      <td>-0.145783</td>\n",
       "      <td>-0.069083</td>\n",
       "      <td>-0.225775</td>\n",
       "      <td>-0.638672</td>\n",
       "      <td>0.101288</td>\n",
       "      <td>-0.339846</td>\n",
       "      <td>0.167170</td>\n",
       "      <td>0.125895</td>\n",
       "      <td>-0.008983</td>\n",
       "      <td>0.014724</td>\n",
       "      <td>2.69</td>\n",
       "      <td>0</td>\n",
       "    </tr>\n",
       "    <tr>\n",
       "      <th>2</th>\n",
       "      <td>1.0</td>\n",
       "      <td>-1.358354</td>\n",
       "      <td>-1.340163</td>\n",
       "      <td>1.773209</td>\n",
       "      <td>0.379780</td>\n",
       "      <td>-0.503198</td>\n",
       "      <td>1.800499</td>\n",
       "      <td>0.791461</td>\n",
       "      <td>0.247676</td>\n",
       "      <td>-1.514654</td>\n",
       "      <td>0.207643</td>\n",
       "      <td>0.624501</td>\n",
       "      <td>0.066084</td>\n",
       "      <td>0.717293</td>\n",
       "      <td>-0.165946</td>\n",
       "      <td>2.345865</td>\n",
       "      <td>-2.890083</td>\n",
       "      <td>1.109969</td>\n",
       "      <td>-0.121359</td>\n",
       "      <td>-2.261857</td>\n",
       "      <td>0.524980</td>\n",
       "      <td>0.247998</td>\n",
       "      <td>0.771679</td>\n",
       "      <td>0.909412</td>\n",
       "      <td>-0.689281</td>\n",
       "      <td>-0.327642</td>\n",
       "      <td>-0.139097</td>\n",
       "      <td>-0.055353</td>\n",
       "      <td>-0.059752</td>\n",
       "      <td>378.66</td>\n",
       "      <td>0</td>\n",
       "    </tr>\n",
       "    <tr>\n",
       "      <th>3</th>\n",
       "      <td>1.0</td>\n",
       "      <td>-0.966272</td>\n",
       "      <td>-0.185226</td>\n",
       "      <td>1.792993</td>\n",
       "      <td>-0.863291</td>\n",
       "      <td>-0.010309</td>\n",
       "      <td>1.247203</td>\n",
       "      <td>0.237609</td>\n",
       "      <td>0.377436</td>\n",
       "      <td>-1.387024</td>\n",
       "      <td>-0.054952</td>\n",
       "      <td>-0.226487</td>\n",
       "      <td>0.178228</td>\n",
       "      <td>0.507757</td>\n",
       "      <td>-0.287924</td>\n",
       "      <td>-0.631418</td>\n",
       "      <td>-1.059647</td>\n",
       "      <td>-0.684093</td>\n",
       "      <td>1.965775</td>\n",
       "      <td>-1.232622</td>\n",
       "      <td>-0.208038</td>\n",
       "      <td>-0.108300</td>\n",
       "      <td>0.005274</td>\n",
       "      <td>-0.190321</td>\n",
       "      <td>-1.175575</td>\n",
       "      <td>0.647376</td>\n",
       "      <td>-0.221929</td>\n",
       "      <td>0.062723</td>\n",
       "      <td>0.061458</td>\n",
       "      <td>123.50</td>\n",
       "      <td>0</td>\n",
       "    </tr>\n",
       "    <tr>\n",
       "      <th>4</th>\n",
       "      <td>2.0</td>\n",
       "      <td>-1.158233</td>\n",
       "      <td>0.877737</td>\n",
       "      <td>1.548718</td>\n",
       "      <td>0.403034</td>\n",
       "      <td>-0.407193</td>\n",
       "      <td>0.095921</td>\n",
       "      <td>0.592941</td>\n",
       "      <td>-0.270533</td>\n",
       "      <td>0.817739</td>\n",
       "      <td>0.753074</td>\n",
       "      <td>-0.822843</td>\n",
       "      <td>0.538196</td>\n",
       "      <td>1.345852</td>\n",
       "      <td>-1.119670</td>\n",
       "      <td>0.175121</td>\n",
       "      <td>-0.451449</td>\n",
       "      <td>-0.237033</td>\n",
       "      <td>-0.038195</td>\n",
       "      <td>0.803487</td>\n",
       "      <td>0.408542</td>\n",
       "      <td>-0.009431</td>\n",
       "      <td>0.798278</td>\n",
       "      <td>-0.137458</td>\n",
       "      <td>0.141267</td>\n",
       "      <td>-0.206010</td>\n",
       "      <td>0.502292</td>\n",
       "      <td>0.219422</td>\n",
       "      <td>0.215153</td>\n",
       "      <td>69.99</td>\n",
       "      <td>0</td>\n",
       "    </tr>\n",
       "  </tbody>\n",
       "</table>\n",
       "</div>"
      ],
      "text/plain": [
       "   Time        V1        V2        V3        V4        V5        V6        V7  \\\n",
       "0   0.0 -1.359807 -0.072781  2.536347  1.378155 -0.338321  0.462388  0.239599   \n",
       "1   0.0  1.191857  0.266151  0.166480  0.448154  0.060018 -0.082361 -0.078803   \n",
       "2   1.0 -1.358354 -1.340163  1.773209  0.379780 -0.503198  1.800499  0.791461   \n",
       "3   1.0 -0.966272 -0.185226  1.792993 -0.863291 -0.010309  1.247203  0.237609   \n",
       "4   2.0 -1.158233  0.877737  1.548718  0.403034 -0.407193  0.095921  0.592941   \n",
       "\n",
       "         V8        V9       V10       V11       V12       V13       V14  \\\n",
       "0  0.098698  0.363787  0.090794 -0.551600 -0.617801 -0.991390 -0.311169   \n",
       "1  0.085102 -0.255425 -0.166974  1.612727  1.065235  0.489095 -0.143772   \n",
       "2  0.247676 -1.514654  0.207643  0.624501  0.066084  0.717293 -0.165946   \n",
       "3  0.377436 -1.387024 -0.054952 -0.226487  0.178228  0.507757 -0.287924   \n",
       "4 -0.270533  0.817739  0.753074 -0.822843  0.538196  1.345852 -1.119670   \n",
       "\n",
       "        V15       V16       V17       V18       V19       V20       V21  \\\n",
       "0  1.468177 -0.470401  0.207971  0.025791  0.403993  0.251412 -0.018307   \n",
       "1  0.635558  0.463917 -0.114805 -0.183361 -0.145783 -0.069083 -0.225775   \n",
       "2  2.345865 -2.890083  1.109969 -0.121359 -2.261857  0.524980  0.247998   \n",
       "3 -0.631418 -1.059647 -0.684093  1.965775 -1.232622 -0.208038 -0.108300   \n",
       "4  0.175121 -0.451449 -0.237033 -0.038195  0.803487  0.408542 -0.009431   \n",
       "\n",
       "        V22       V23       V24       V25       V26       V27       V28  \\\n",
       "0  0.277838 -0.110474  0.066928  0.128539 -0.189115  0.133558 -0.021053   \n",
       "1 -0.638672  0.101288 -0.339846  0.167170  0.125895 -0.008983  0.014724   \n",
       "2  0.771679  0.909412 -0.689281 -0.327642 -0.139097 -0.055353 -0.059752   \n",
       "3  0.005274 -0.190321 -1.175575  0.647376 -0.221929  0.062723  0.061458   \n",
       "4  0.798278 -0.137458  0.141267 -0.206010  0.502292  0.219422  0.215153   \n",
       "\n",
       "   Amount  Class  \n",
       "0  149.62      0  \n",
       "1    2.69      0  \n",
       "2  378.66      0  \n",
       "3  123.50      0  \n",
       "4   69.99      0  "
      ]
     },
     "execution_count": 5,
     "metadata": {},
     "output_type": "execute_result"
    }
   ],
   "source": [
    "data.head()"
   ]
  },
  {
   "cell_type": "code",
   "execution_count": 6,
   "id": "081e815d",
   "metadata": {
    "execution": {
     "iopub.execute_input": "2024-11-03T12:27:04.547462Z",
     "iopub.status.busy": "2024-11-03T12:27:04.547008Z",
     "iopub.status.idle": "2024-11-03T12:27:04.586934Z",
     "shell.execute_reply": "2024-11-03T12:27:04.585606Z"
    },
    "papermill": {
     "duration": 0.061388,
     "end_time": "2024-11-03T12:27:04.589663",
     "exception": false,
     "start_time": "2024-11-03T12:27:04.528275",
     "status": "completed"
    },
    "tags": []
   },
   "outputs": [
    {
     "data": {
      "text/html": [
       "<div>\n",
       "<style scoped>\n",
       "    .dataframe tbody tr th:only-of-type {\n",
       "        vertical-align: middle;\n",
       "    }\n",
       "\n",
       "    .dataframe tbody tr th {\n",
       "        vertical-align: top;\n",
       "    }\n",
       "\n",
       "    .dataframe thead th {\n",
       "        text-align: right;\n",
       "    }\n",
       "</style>\n",
       "<table border=\"1\" class=\"dataframe\">\n",
       "  <thead>\n",
       "    <tr style=\"text-align: right;\">\n",
       "      <th></th>\n",
       "      <th>Time</th>\n",
       "      <th>V1</th>\n",
       "      <th>V2</th>\n",
       "      <th>V3</th>\n",
       "      <th>V4</th>\n",
       "      <th>V5</th>\n",
       "      <th>V6</th>\n",
       "      <th>V7</th>\n",
       "      <th>V8</th>\n",
       "      <th>V9</th>\n",
       "      <th>V10</th>\n",
       "      <th>V11</th>\n",
       "      <th>V12</th>\n",
       "      <th>V13</th>\n",
       "      <th>V14</th>\n",
       "      <th>V15</th>\n",
       "      <th>V16</th>\n",
       "      <th>V17</th>\n",
       "      <th>V18</th>\n",
       "      <th>V19</th>\n",
       "      <th>V20</th>\n",
       "      <th>V21</th>\n",
       "      <th>V22</th>\n",
       "      <th>V23</th>\n",
       "      <th>V24</th>\n",
       "      <th>V25</th>\n",
       "      <th>V26</th>\n",
       "      <th>V27</th>\n",
       "      <th>V28</th>\n",
       "      <th>Amount</th>\n",
       "      <th>Class</th>\n",
       "    </tr>\n",
       "  </thead>\n",
       "  <tbody>\n",
       "    <tr>\n",
       "      <th>284802</th>\n",
       "      <td>172786.0</td>\n",
       "      <td>-11.881118</td>\n",
       "      <td>10.071785</td>\n",
       "      <td>-9.834783</td>\n",
       "      <td>-2.066656</td>\n",
       "      <td>-5.364473</td>\n",
       "      <td>-2.606837</td>\n",
       "      <td>-4.918215</td>\n",
       "      <td>7.305334</td>\n",
       "      <td>1.914428</td>\n",
       "      <td>4.356170</td>\n",
       "      <td>-1.593105</td>\n",
       "      <td>2.711941</td>\n",
       "      <td>-0.689256</td>\n",
       "      <td>4.626942</td>\n",
       "      <td>-0.924459</td>\n",
       "      <td>1.107641</td>\n",
       "      <td>1.991691</td>\n",
       "      <td>0.510632</td>\n",
       "      <td>-0.682920</td>\n",
       "      <td>1.475829</td>\n",
       "      <td>0.213454</td>\n",
       "      <td>0.111864</td>\n",
       "      <td>1.014480</td>\n",
       "      <td>-0.509348</td>\n",
       "      <td>1.436807</td>\n",
       "      <td>0.250034</td>\n",
       "      <td>0.943651</td>\n",
       "      <td>0.823731</td>\n",
       "      <td>0.77</td>\n",
       "      <td>0</td>\n",
       "    </tr>\n",
       "    <tr>\n",
       "      <th>284803</th>\n",
       "      <td>172787.0</td>\n",
       "      <td>-0.732789</td>\n",
       "      <td>-0.055080</td>\n",
       "      <td>2.035030</td>\n",
       "      <td>-0.738589</td>\n",
       "      <td>0.868229</td>\n",
       "      <td>1.058415</td>\n",
       "      <td>0.024330</td>\n",
       "      <td>0.294869</td>\n",
       "      <td>0.584800</td>\n",
       "      <td>-0.975926</td>\n",
       "      <td>-0.150189</td>\n",
       "      <td>0.915802</td>\n",
       "      <td>1.214756</td>\n",
       "      <td>-0.675143</td>\n",
       "      <td>1.164931</td>\n",
       "      <td>-0.711757</td>\n",
       "      <td>-0.025693</td>\n",
       "      <td>-1.221179</td>\n",
       "      <td>-1.545556</td>\n",
       "      <td>0.059616</td>\n",
       "      <td>0.214205</td>\n",
       "      <td>0.924384</td>\n",
       "      <td>0.012463</td>\n",
       "      <td>-1.016226</td>\n",
       "      <td>-0.606624</td>\n",
       "      <td>-0.395255</td>\n",
       "      <td>0.068472</td>\n",
       "      <td>-0.053527</td>\n",
       "      <td>24.79</td>\n",
       "      <td>0</td>\n",
       "    </tr>\n",
       "    <tr>\n",
       "      <th>284804</th>\n",
       "      <td>172788.0</td>\n",
       "      <td>1.919565</td>\n",
       "      <td>-0.301254</td>\n",
       "      <td>-3.249640</td>\n",
       "      <td>-0.557828</td>\n",
       "      <td>2.630515</td>\n",
       "      <td>3.031260</td>\n",
       "      <td>-0.296827</td>\n",
       "      <td>0.708417</td>\n",
       "      <td>0.432454</td>\n",
       "      <td>-0.484782</td>\n",
       "      <td>0.411614</td>\n",
       "      <td>0.063119</td>\n",
       "      <td>-0.183699</td>\n",
       "      <td>-0.510602</td>\n",
       "      <td>1.329284</td>\n",
       "      <td>0.140716</td>\n",
       "      <td>0.313502</td>\n",
       "      <td>0.395652</td>\n",
       "      <td>-0.577252</td>\n",
       "      <td>0.001396</td>\n",
       "      <td>0.232045</td>\n",
       "      <td>0.578229</td>\n",
       "      <td>-0.037501</td>\n",
       "      <td>0.640134</td>\n",
       "      <td>0.265745</td>\n",
       "      <td>-0.087371</td>\n",
       "      <td>0.004455</td>\n",
       "      <td>-0.026561</td>\n",
       "      <td>67.88</td>\n",
       "      <td>0</td>\n",
       "    </tr>\n",
       "    <tr>\n",
       "      <th>284805</th>\n",
       "      <td>172788.0</td>\n",
       "      <td>-0.240440</td>\n",
       "      <td>0.530483</td>\n",
       "      <td>0.702510</td>\n",
       "      <td>0.689799</td>\n",
       "      <td>-0.377961</td>\n",
       "      <td>0.623708</td>\n",
       "      <td>-0.686180</td>\n",
       "      <td>0.679145</td>\n",
       "      <td>0.392087</td>\n",
       "      <td>-0.399126</td>\n",
       "      <td>-1.933849</td>\n",
       "      <td>-0.962886</td>\n",
       "      <td>-1.042082</td>\n",
       "      <td>0.449624</td>\n",
       "      <td>1.962563</td>\n",
       "      <td>-0.608577</td>\n",
       "      <td>0.509928</td>\n",
       "      <td>1.113981</td>\n",
       "      <td>2.897849</td>\n",
       "      <td>0.127434</td>\n",
       "      <td>0.265245</td>\n",
       "      <td>0.800049</td>\n",
       "      <td>-0.163298</td>\n",
       "      <td>0.123205</td>\n",
       "      <td>-0.569159</td>\n",
       "      <td>0.546668</td>\n",
       "      <td>0.108821</td>\n",
       "      <td>0.104533</td>\n",
       "      <td>10.00</td>\n",
       "      <td>0</td>\n",
       "    </tr>\n",
       "    <tr>\n",
       "      <th>284806</th>\n",
       "      <td>172792.0</td>\n",
       "      <td>-0.533413</td>\n",
       "      <td>-0.189733</td>\n",
       "      <td>0.703337</td>\n",
       "      <td>-0.506271</td>\n",
       "      <td>-0.012546</td>\n",
       "      <td>-0.649617</td>\n",
       "      <td>1.577006</td>\n",
       "      <td>-0.414650</td>\n",
       "      <td>0.486180</td>\n",
       "      <td>-0.915427</td>\n",
       "      <td>-1.040458</td>\n",
       "      <td>-0.031513</td>\n",
       "      <td>-0.188093</td>\n",
       "      <td>-0.084316</td>\n",
       "      <td>0.041333</td>\n",
       "      <td>-0.302620</td>\n",
       "      <td>-0.660377</td>\n",
       "      <td>0.167430</td>\n",
       "      <td>-0.256117</td>\n",
       "      <td>0.382948</td>\n",
       "      <td>0.261057</td>\n",
       "      <td>0.643078</td>\n",
       "      <td>0.376777</td>\n",
       "      <td>0.008797</td>\n",
       "      <td>-0.473649</td>\n",
       "      <td>-0.818267</td>\n",
       "      <td>-0.002415</td>\n",
       "      <td>0.013649</td>\n",
       "      <td>217.00</td>\n",
       "      <td>0</td>\n",
       "    </tr>\n",
       "  </tbody>\n",
       "</table>\n",
       "</div>"
      ],
      "text/plain": [
       "            Time         V1         V2        V3        V4        V5  \\\n",
       "284802  172786.0 -11.881118  10.071785 -9.834783 -2.066656 -5.364473   \n",
       "284803  172787.0  -0.732789  -0.055080  2.035030 -0.738589  0.868229   \n",
       "284804  172788.0   1.919565  -0.301254 -3.249640 -0.557828  2.630515   \n",
       "284805  172788.0  -0.240440   0.530483  0.702510  0.689799 -0.377961   \n",
       "284806  172792.0  -0.533413  -0.189733  0.703337 -0.506271 -0.012546   \n",
       "\n",
       "              V6        V7        V8        V9       V10       V11       V12  \\\n",
       "284802 -2.606837 -4.918215  7.305334  1.914428  4.356170 -1.593105  2.711941   \n",
       "284803  1.058415  0.024330  0.294869  0.584800 -0.975926 -0.150189  0.915802   \n",
       "284804  3.031260 -0.296827  0.708417  0.432454 -0.484782  0.411614  0.063119   \n",
       "284805  0.623708 -0.686180  0.679145  0.392087 -0.399126 -1.933849 -0.962886   \n",
       "284806 -0.649617  1.577006 -0.414650  0.486180 -0.915427 -1.040458 -0.031513   \n",
       "\n",
       "             V13       V14       V15       V16       V17       V18       V19  \\\n",
       "284802 -0.689256  4.626942 -0.924459  1.107641  1.991691  0.510632 -0.682920   \n",
       "284803  1.214756 -0.675143  1.164931 -0.711757 -0.025693 -1.221179 -1.545556   \n",
       "284804 -0.183699 -0.510602  1.329284  0.140716  0.313502  0.395652 -0.577252   \n",
       "284805 -1.042082  0.449624  1.962563 -0.608577  0.509928  1.113981  2.897849   \n",
       "284806 -0.188093 -0.084316  0.041333 -0.302620 -0.660377  0.167430 -0.256117   \n",
       "\n",
       "             V20       V21       V22       V23       V24       V25       V26  \\\n",
       "284802  1.475829  0.213454  0.111864  1.014480 -0.509348  1.436807  0.250034   \n",
       "284803  0.059616  0.214205  0.924384  0.012463 -1.016226 -0.606624 -0.395255   \n",
       "284804  0.001396  0.232045  0.578229 -0.037501  0.640134  0.265745 -0.087371   \n",
       "284805  0.127434  0.265245  0.800049 -0.163298  0.123205 -0.569159  0.546668   \n",
       "284806  0.382948  0.261057  0.643078  0.376777  0.008797 -0.473649 -0.818267   \n",
       "\n",
       "             V27       V28  Amount  Class  \n",
       "284802  0.943651  0.823731    0.77      0  \n",
       "284803  0.068472 -0.053527   24.79      0  \n",
       "284804  0.004455 -0.026561   67.88      0  \n",
       "284805  0.108821  0.104533   10.00      0  \n",
       "284806 -0.002415  0.013649  217.00      0  "
      ]
     },
     "execution_count": 6,
     "metadata": {},
     "output_type": "execute_result"
    }
   ],
   "source": [
    "data.tail()"
   ]
  },
  {
   "cell_type": "code",
   "execution_count": 7,
   "id": "f557ca3a",
   "metadata": {
    "execution": {
     "iopub.execute_input": "2024-11-03T12:27:04.627450Z",
     "iopub.status.busy": "2024-11-03T12:27:04.627028Z",
     "iopub.status.idle": "2024-11-03T12:27:04.678647Z",
     "shell.execute_reply": "2024-11-03T12:27:04.676874Z"
    },
    "papermill": {
     "duration": 0.07406,
     "end_time": "2024-11-03T12:27:04.681597",
     "exception": false,
     "start_time": "2024-11-03T12:27:04.607537",
     "status": "completed"
    },
    "tags": []
   },
   "outputs": [
    {
     "name": "stdout",
     "output_type": "stream",
     "text": [
      "<class 'pandas.core.frame.DataFrame'>\n",
      "RangeIndex: 284807 entries, 0 to 284806\n",
      "Data columns (total 31 columns):\n",
      " #   Column  Non-Null Count   Dtype  \n",
      "---  ------  --------------   -----  \n",
      " 0   Time    284807 non-null  float64\n",
      " 1   V1      284807 non-null  float64\n",
      " 2   V2      284807 non-null  float64\n",
      " 3   V3      284807 non-null  float64\n",
      " 4   V4      284807 non-null  float64\n",
      " 5   V5      284807 non-null  float64\n",
      " 6   V6      284807 non-null  float64\n",
      " 7   V7      284807 non-null  float64\n",
      " 8   V8      284807 non-null  float64\n",
      " 9   V9      284807 non-null  float64\n",
      " 10  V10     284807 non-null  float64\n",
      " 11  V11     284807 non-null  float64\n",
      " 12  V12     284807 non-null  float64\n",
      " 13  V13     284807 non-null  float64\n",
      " 14  V14     284807 non-null  float64\n",
      " 15  V15     284807 non-null  float64\n",
      " 16  V16     284807 non-null  float64\n",
      " 17  V17     284807 non-null  float64\n",
      " 18  V18     284807 non-null  float64\n",
      " 19  V19     284807 non-null  float64\n",
      " 20  V20     284807 non-null  float64\n",
      " 21  V21     284807 non-null  float64\n",
      " 22  V22     284807 non-null  float64\n",
      " 23  V23     284807 non-null  float64\n",
      " 24  V24     284807 non-null  float64\n",
      " 25  V25     284807 non-null  float64\n",
      " 26  V26     284807 non-null  float64\n",
      " 27  V27     284807 non-null  float64\n",
      " 28  V28     284807 non-null  float64\n",
      " 29  Amount  284807 non-null  float64\n",
      " 30  Class   284807 non-null  int64  \n",
      "dtypes: float64(30), int64(1)\n",
      "memory usage: 67.4 MB\n"
     ]
    }
   ],
   "source": [
    "data.info()"
   ]
  },
  {
   "cell_type": "code",
   "execution_count": 8,
   "id": "d64bcd19",
   "metadata": {
    "execution": {
     "iopub.execute_input": "2024-11-03T12:27:04.721096Z",
     "iopub.status.busy": "2024-11-03T12:27:04.719573Z",
     "iopub.status.idle": "2024-11-03T12:27:04.728340Z",
     "shell.execute_reply": "2024-11-03T12:27:04.727113Z"
    },
    "papermill": {
     "duration": 0.031191,
     "end_time": "2024-11-03T12:27:04.731255",
     "exception": false,
     "start_time": "2024-11-03T12:27:04.700064",
     "status": "completed"
    },
    "tags": []
   },
   "outputs": [
    {
     "data": {
      "text/plain": [
       "(284807, 31)"
      ]
     },
     "execution_count": 8,
     "metadata": {},
     "output_type": "execute_result"
    }
   ],
   "source": [
    "data.shape"
   ]
  },
  {
   "cell_type": "code",
   "execution_count": 9,
   "id": "4c58c387",
   "metadata": {
    "execution": {
     "iopub.execute_input": "2024-11-03T12:27:04.770798Z",
     "iopub.status.busy": "2024-11-03T12:27:04.769557Z",
     "iopub.status.idle": "2024-11-03T12:27:04.783024Z",
     "shell.execute_reply": "2024-11-03T12:27:04.781767Z"
    },
    "papermill": {
     "duration": 0.037152,
     "end_time": "2024-11-03T12:27:04.786664",
     "exception": false,
     "start_time": "2024-11-03T12:27:04.749512",
     "status": "completed"
    },
    "tags": []
   },
   "outputs": [
    {
     "name": "stdout",
     "output_type": "stream",
     "text": [
      "Class\n",
      "0    284315\n",
      "1       492\n",
      "Name: count, dtype: int64\n"
     ]
    }
   ],
   "source": [
    "\n",
    "print(data['Class'].value_counts())\n"
   ]
  },
  {
   "cell_type": "code",
   "execution_count": 10,
   "id": "53f32b83",
   "metadata": {
    "execution": {
     "iopub.execute_input": "2024-11-03T12:27:04.826653Z",
     "iopub.status.busy": "2024-11-03T12:27:04.825643Z",
     "iopub.status.idle": "2024-11-03T12:27:04.851524Z",
     "shell.execute_reply": "2024-11-03T12:27:04.850267Z"
    },
    "papermill": {
     "duration": 0.048644,
     "end_time": "2024-11-03T12:27:04.854374",
     "exception": false,
     "start_time": "2024-11-03T12:27:04.805730",
     "status": "completed"
    },
    "tags": []
   },
   "outputs": [
    {
     "data": {
      "text/plain": [
       "Time      0\n",
       "V1        0\n",
       "V2        0\n",
       "V3        0\n",
       "V4        0\n",
       "V5        0\n",
       "V6        0\n",
       "V7        0\n",
       "V8        0\n",
       "V9        0\n",
       "V10       0\n",
       "V11       0\n",
       "V12       0\n",
       "V13       0\n",
       "V14       0\n",
       "V15       0\n",
       "V16       0\n",
       "V17       0\n",
       "V18       0\n",
       "V19       0\n",
       "V20       0\n",
       "V21       0\n",
       "V22       0\n",
       "V23       0\n",
       "V24       0\n",
       "V25       0\n",
       "V26       0\n",
       "V27       0\n",
       "V28       0\n",
       "Amount    0\n",
       "Class     0\n",
       "dtype: int64"
      ]
     },
     "execution_count": 10,
     "metadata": {},
     "output_type": "execute_result"
    }
   ],
   "source": [
    "data.isnull().sum()"
   ]
  },
  {
   "cell_type": "code",
   "execution_count": 11,
   "id": "0ae26da3",
   "metadata": {
    "execution": {
     "iopub.execute_input": "2024-11-03T12:27:04.894605Z",
     "iopub.status.busy": "2024-11-03T12:27:04.893595Z",
     "iopub.status.idle": "2024-11-03T12:27:04.945152Z",
     "shell.execute_reply": "2024-11-03T12:27:04.944032Z"
    },
    "papermill": {
     "duration": 0.074539,
     "end_time": "2024-11-03T12:27:04.947989",
     "exception": false,
     "start_time": "2024-11-03T12:27:04.873450",
     "status": "completed"
    },
    "tags": []
   },
   "outputs": [],
   "source": [
    "data = data.dropna()  # or use imputation techniques\n"
   ]
  },
  {
   "cell_type": "code",
   "execution_count": 12,
   "id": "c200b4d7",
   "metadata": {
    "execution": {
     "iopub.execute_input": "2024-11-03T12:27:04.986701Z",
     "iopub.status.busy": "2024-11-03T12:27:04.986263Z",
     "iopub.status.idle": "2024-11-03T12:27:05.036765Z",
     "shell.execute_reply": "2024-11-03T12:27:05.035491Z"
    },
    "papermill": {
     "duration": 0.073363,
     "end_time": "2024-11-03T12:27:05.039923",
     "exception": false,
     "start_time": "2024-11-03T12:27:04.966560",
     "status": "completed"
    },
    "tags": []
   },
   "outputs": [],
   "source": [
    "from sklearn.preprocessing import StandardScaler\n",
    "\n",
    "scaler = StandardScaler()\n",
    "data[['Amount']] = scaler.fit_transform(data[['Amount']])\n"
   ]
  },
  {
   "cell_type": "code",
   "execution_count": 13,
   "id": "98fb5c04",
   "metadata": {
    "execution": {
     "iopub.execute_input": "2024-11-03T12:27:05.078971Z",
     "iopub.status.busy": "2024-11-03T12:27:05.078526Z",
     "iopub.status.idle": "2024-11-03T12:27:05.114847Z",
     "shell.execute_reply": "2024-11-03T12:27:05.113473Z"
    },
    "papermill": {
     "duration": 0.059439,
     "end_time": "2024-11-03T12:27:05.117624",
     "exception": false,
     "start_time": "2024-11-03T12:27:05.058185",
     "status": "completed"
    },
    "tags": []
   },
   "outputs": [
    {
     "data": {
      "text/html": [
       "<div>\n",
       "<style scoped>\n",
       "    .dataframe tbody tr th:only-of-type {\n",
       "        vertical-align: middle;\n",
       "    }\n",
       "\n",
       "    .dataframe tbody tr th {\n",
       "        vertical-align: top;\n",
       "    }\n",
       "\n",
       "    .dataframe thead th {\n",
       "        text-align: right;\n",
       "    }\n",
       "</style>\n",
       "<table border=\"1\" class=\"dataframe\">\n",
       "  <thead>\n",
       "    <tr style=\"text-align: right;\">\n",
       "      <th></th>\n",
       "      <th>Time</th>\n",
       "      <th>V1</th>\n",
       "      <th>V2</th>\n",
       "      <th>V3</th>\n",
       "      <th>V4</th>\n",
       "      <th>V5</th>\n",
       "      <th>V6</th>\n",
       "      <th>V7</th>\n",
       "      <th>V8</th>\n",
       "      <th>V9</th>\n",
       "      <th>V10</th>\n",
       "      <th>V11</th>\n",
       "      <th>V12</th>\n",
       "      <th>V13</th>\n",
       "      <th>V14</th>\n",
       "      <th>V15</th>\n",
       "      <th>V16</th>\n",
       "      <th>V17</th>\n",
       "      <th>V18</th>\n",
       "      <th>V19</th>\n",
       "      <th>V20</th>\n",
       "      <th>V21</th>\n",
       "      <th>V22</th>\n",
       "      <th>V23</th>\n",
       "      <th>V24</th>\n",
       "      <th>V25</th>\n",
       "      <th>V26</th>\n",
       "      <th>V27</th>\n",
       "      <th>V28</th>\n",
       "      <th>Amount</th>\n",
       "      <th>Class</th>\n",
       "    </tr>\n",
       "  </thead>\n",
       "  <tbody>\n",
       "    <tr>\n",
       "      <th>0</th>\n",
       "      <td>0.0</td>\n",
       "      <td>-1.359807</td>\n",
       "      <td>-0.072781</td>\n",
       "      <td>2.536347</td>\n",
       "      <td>1.378155</td>\n",
       "      <td>-0.338321</td>\n",
       "      <td>0.462388</td>\n",
       "      <td>0.239599</td>\n",
       "      <td>0.098698</td>\n",
       "      <td>0.363787</td>\n",
       "      <td>0.090794</td>\n",
       "      <td>-0.551600</td>\n",
       "      <td>-0.617801</td>\n",
       "      <td>-0.991390</td>\n",
       "      <td>-0.311169</td>\n",
       "      <td>1.468177</td>\n",
       "      <td>-0.470401</td>\n",
       "      <td>0.207971</td>\n",
       "      <td>0.025791</td>\n",
       "      <td>0.403993</td>\n",
       "      <td>0.251412</td>\n",
       "      <td>-0.018307</td>\n",
       "      <td>0.277838</td>\n",
       "      <td>-0.110474</td>\n",
       "      <td>0.066928</td>\n",
       "      <td>0.128539</td>\n",
       "      <td>-0.189115</td>\n",
       "      <td>0.133558</td>\n",
       "      <td>-0.021053</td>\n",
       "      <td>0.244964</td>\n",
       "      <td>0</td>\n",
       "    </tr>\n",
       "    <tr>\n",
       "      <th>1</th>\n",
       "      <td>0.0</td>\n",
       "      <td>1.191857</td>\n",
       "      <td>0.266151</td>\n",
       "      <td>0.166480</td>\n",
       "      <td>0.448154</td>\n",
       "      <td>0.060018</td>\n",
       "      <td>-0.082361</td>\n",
       "      <td>-0.078803</td>\n",
       "      <td>0.085102</td>\n",
       "      <td>-0.255425</td>\n",
       "      <td>-0.166974</td>\n",
       "      <td>1.612727</td>\n",
       "      <td>1.065235</td>\n",
       "      <td>0.489095</td>\n",
       "      <td>-0.143772</td>\n",
       "      <td>0.635558</td>\n",
       "      <td>0.463917</td>\n",
       "      <td>-0.114805</td>\n",
       "      <td>-0.183361</td>\n",
       "      <td>-0.145783</td>\n",
       "      <td>-0.069083</td>\n",
       "      <td>-0.225775</td>\n",
       "      <td>-0.638672</td>\n",
       "      <td>0.101288</td>\n",
       "      <td>-0.339846</td>\n",
       "      <td>0.167170</td>\n",
       "      <td>0.125895</td>\n",
       "      <td>-0.008983</td>\n",
       "      <td>0.014724</td>\n",
       "      <td>-0.342475</td>\n",
       "      <td>0</td>\n",
       "    </tr>\n",
       "    <tr>\n",
       "      <th>2</th>\n",
       "      <td>1.0</td>\n",
       "      <td>-1.358354</td>\n",
       "      <td>-1.340163</td>\n",
       "      <td>1.773209</td>\n",
       "      <td>0.379780</td>\n",
       "      <td>-0.503198</td>\n",
       "      <td>1.800499</td>\n",
       "      <td>0.791461</td>\n",
       "      <td>0.247676</td>\n",
       "      <td>-1.514654</td>\n",
       "      <td>0.207643</td>\n",
       "      <td>0.624501</td>\n",
       "      <td>0.066084</td>\n",
       "      <td>0.717293</td>\n",
       "      <td>-0.165946</td>\n",
       "      <td>2.345865</td>\n",
       "      <td>-2.890083</td>\n",
       "      <td>1.109969</td>\n",
       "      <td>-0.121359</td>\n",
       "      <td>-2.261857</td>\n",
       "      <td>0.524980</td>\n",
       "      <td>0.247998</td>\n",
       "      <td>0.771679</td>\n",
       "      <td>0.909412</td>\n",
       "      <td>-0.689281</td>\n",
       "      <td>-0.327642</td>\n",
       "      <td>-0.139097</td>\n",
       "      <td>-0.055353</td>\n",
       "      <td>-0.059752</td>\n",
       "      <td>1.160686</td>\n",
       "      <td>0</td>\n",
       "    </tr>\n",
       "    <tr>\n",
       "      <th>3</th>\n",
       "      <td>1.0</td>\n",
       "      <td>-0.966272</td>\n",
       "      <td>-0.185226</td>\n",
       "      <td>1.792993</td>\n",
       "      <td>-0.863291</td>\n",
       "      <td>-0.010309</td>\n",
       "      <td>1.247203</td>\n",
       "      <td>0.237609</td>\n",
       "      <td>0.377436</td>\n",
       "      <td>-1.387024</td>\n",
       "      <td>-0.054952</td>\n",
       "      <td>-0.226487</td>\n",
       "      <td>0.178228</td>\n",
       "      <td>0.507757</td>\n",
       "      <td>-0.287924</td>\n",
       "      <td>-0.631418</td>\n",
       "      <td>-1.059647</td>\n",
       "      <td>-0.684093</td>\n",
       "      <td>1.965775</td>\n",
       "      <td>-1.232622</td>\n",
       "      <td>-0.208038</td>\n",
       "      <td>-0.108300</td>\n",
       "      <td>0.005274</td>\n",
       "      <td>-0.190321</td>\n",
       "      <td>-1.175575</td>\n",
       "      <td>0.647376</td>\n",
       "      <td>-0.221929</td>\n",
       "      <td>0.062723</td>\n",
       "      <td>0.061458</td>\n",
       "      <td>0.140534</td>\n",
       "      <td>0</td>\n",
       "    </tr>\n",
       "    <tr>\n",
       "      <th>4</th>\n",
       "      <td>2.0</td>\n",
       "      <td>-1.158233</td>\n",
       "      <td>0.877737</td>\n",
       "      <td>1.548718</td>\n",
       "      <td>0.403034</td>\n",
       "      <td>-0.407193</td>\n",
       "      <td>0.095921</td>\n",
       "      <td>0.592941</td>\n",
       "      <td>-0.270533</td>\n",
       "      <td>0.817739</td>\n",
       "      <td>0.753074</td>\n",
       "      <td>-0.822843</td>\n",
       "      <td>0.538196</td>\n",
       "      <td>1.345852</td>\n",
       "      <td>-1.119670</td>\n",
       "      <td>0.175121</td>\n",
       "      <td>-0.451449</td>\n",
       "      <td>-0.237033</td>\n",
       "      <td>-0.038195</td>\n",
       "      <td>0.803487</td>\n",
       "      <td>0.408542</td>\n",
       "      <td>-0.009431</td>\n",
       "      <td>0.798278</td>\n",
       "      <td>-0.137458</td>\n",
       "      <td>0.141267</td>\n",
       "      <td>-0.206010</td>\n",
       "      <td>0.502292</td>\n",
       "      <td>0.219422</td>\n",
       "      <td>0.215153</td>\n",
       "      <td>-0.073403</td>\n",
       "      <td>0</td>\n",
       "    </tr>\n",
       "  </tbody>\n",
       "</table>\n",
       "</div>"
      ],
      "text/plain": [
       "   Time        V1        V2        V3        V4        V5        V6        V7  \\\n",
       "0   0.0 -1.359807 -0.072781  2.536347  1.378155 -0.338321  0.462388  0.239599   \n",
       "1   0.0  1.191857  0.266151  0.166480  0.448154  0.060018 -0.082361 -0.078803   \n",
       "2   1.0 -1.358354 -1.340163  1.773209  0.379780 -0.503198  1.800499  0.791461   \n",
       "3   1.0 -0.966272 -0.185226  1.792993 -0.863291 -0.010309  1.247203  0.237609   \n",
       "4   2.0 -1.158233  0.877737  1.548718  0.403034 -0.407193  0.095921  0.592941   \n",
       "\n",
       "         V8        V9       V10       V11       V12       V13       V14  \\\n",
       "0  0.098698  0.363787  0.090794 -0.551600 -0.617801 -0.991390 -0.311169   \n",
       "1  0.085102 -0.255425 -0.166974  1.612727  1.065235  0.489095 -0.143772   \n",
       "2  0.247676 -1.514654  0.207643  0.624501  0.066084  0.717293 -0.165946   \n",
       "3  0.377436 -1.387024 -0.054952 -0.226487  0.178228  0.507757 -0.287924   \n",
       "4 -0.270533  0.817739  0.753074 -0.822843  0.538196  1.345852 -1.119670   \n",
       "\n",
       "        V15       V16       V17       V18       V19       V20       V21  \\\n",
       "0  1.468177 -0.470401  0.207971  0.025791  0.403993  0.251412 -0.018307   \n",
       "1  0.635558  0.463917 -0.114805 -0.183361 -0.145783 -0.069083 -0.225775   \n",
       "2  2.345865 -2.890083  1.109969 -0.121359 -2.261857  0.524980  0.247998   \n",
       "3 -0.631418 -1.059647 -0.684093  1.965775 -1.232622 -0.208038 -0.108300   \n",
       "4  0.175121 -0.451449 -0.237033 -0.038195  0.803487  0.408542 -0.009431   \n",
       "\n",
       "        V22       V23       V24       V25       V26       V27       V28  \\\n",
       "0  0.277838 -0.110474  0.066928  0.128539 -0.189115  0.133558 -0.021053   \n",
       "1 -0.638672  0.101288 -0.339846  0.167170  0.125895 -0.008983  0.014724   \n",
       "2  0.771679  0.909412 -0.689281 -0.327642 -0.139097 -0.055353 -0.059752   \n",
       "3  0.005274 -0.190321 -1.175575  0.647376 -0.221929  0.062723  0.061458   \n",
       "4  0.798278 -0.137458  0.141267 -0.206010  0.502292  0.219422  0.215153   \n",
       "\n",
       "     Amount  Class  \n",
       "0  0.244964      0  \n",
       "1 -0.342475      0  \n",
       "2  1.160686      0  \n",
       "3  0.140534      0  \n",
       "4 -0.073403      0  "
      ]
     },
     "execution_count": 13,
     "metadata": {},
     "output_type": "execute_result"
    }
   ],
   "source": [
    "data.head()"
   ]
  },
  {
   "cell_type": "code",
   "execution_count": 14,
   "id": "80f80037",
   "metadata": {
    "execution": {
     "iopub.execute_input": "2024-11-03T12:27:05.157272Z",
     "iopub.status.busy": "2024-11-03T12:27:05.156850Z",
     "iopub.status.idle": "2024-11-03T12:27:05.196884Z",
     "shell.execute_reply": "2024-11-03T12:27:05.195513Z"
    },
    "papermill": {
     "duration": 0.063407,
     "end_time": "2024-11-03T12:27:05.199872",
     "exception": false,
     "start_time": "2024-11-03T12:27:05.136465",
     "status": "completed"
    },
    "tags": []
   },
   "outputs": [],
   "source": [
    "data = data.drop(['Time'], axis =1)"
   ]
  },
  {
   "cell_type": "code",
   "execution_count": 15,
   "id": "449ab7c3",
   "metadata": {
    "execution": {
     "iopub.execute_input": "2024-11-03T12:27:05.239610Z",
     "iopub.status.busy": "2024-11-03T12:27:05.239153Z",
     "iopub.status.idle": "2024-11-03T12:27:05.275395Z",
     "shell.execute_reply": "2024-11-03T12:27:05.274028Z"
    },
    "papermill": {
     "duration": 0.059515,
     "end_time": "2024-11-03T12:27:05.278147",
     "exception": false,
     "start_time": "2024-11-03T12:27:05.218632",
     "status": "completed"
    },
    "tags": []
   },
   "outputs": [
    {
     "data": {
      "text/html": [
       "<div>\n",
       "<style scoped>\n",
       "    .dataframe tbody tr th:only-of-type {\n",
       "        vertical-align: middle;\n",
       "    }\n",
       "\n",
       "    .dataframe tbody tr th {\n",
       "        vertical-align: top;\n",
       "    }\n",
       "\n",
       "    .dataframe thead th {\n",
       "        text-align: right;\n",
       "    }\n",
       "</style>\n",
       "<table border=\"1\" class=\"dataframe\">\n",
       "  <thead>\n",
       "    <tr style=\"text-align: right;\">\n",
       "      <th></th>\n",
       "      <th>V1</th>\n",
       "      <th>V2</th>\n",
       "      <th>V3</th>\n",
       "      <th>V4</th>\n",
       "      <th>V5</th>\n",
       "      <th>V6</th>\n",
       "      <th>V7</th>\n",
       "      <th>V8</th>\n",
       "      <th>V9</th>\n",
       "      <th>V10</th>\n",
       "      <th>V11</th>\n",
       "      <th>V12</th>\n",
       "      <th>V13</th>\n",
       "      <th>V14</th>\n",
       "      <th>V15</th>\n",
       "      <th>V16</th>\n",
       "      <th>V17</th>\n",
       "      <th>V18</th>\n",
       "      <th>V19</th>\n",
       "      <th>V20</th>\n",
       "      <th>V21</th>\n",
       "      <th>V22</th>\n",
       "      <th>V23</th>\n",
       "      <th>V24</th>\n",
       "      <th>V25</th>\n",
       "      <th>V26</th>\n",
       "      <th>V27</th>\n",
       "      <th>V28</th>\n",
       "      <th>Amount</th>\n",
       "      <th>Class</th>\n",
       "    </tr>\n",
       "  </thead>\n",
       "  <tbody>\n",
       "    <tr>\n",
       "      <th>0</th>\n",
       "      <td>-1.359807</td>\n",
       "      <td>-0.072781</td>\n",
       "      <td>2.536347</td>\n",
       "      <td>1.378155</td>\n",
       "      <td>-0.338321</td>\n",
       "      <td>0.462388</td>\n",
       "      <td>0.239599</td>\n",
       "      <td>0.098698</td>\n",
       "      <td>0.363787</td>\n",
       "      <td>0.090794</td>\n",
       "      <td>-0.551600</td>\n",
       "      <td>-0.617801</td>\n",
       "      <td>-0.991390</td>\n",
       "      <td>-0.311169</td>\n",
       "      <td>1.468177</td>\n",
       "      <td>-0.470401</td>\n",
       "      <td>0.207971</td>\n",
       "      <td>0.025791</td>\n",
       "      <td>0.403993</td>\n",
       "      <td>0.251412</td>\n",
       "      <td>-0.018307</td>\n",
       "      <td>0.277838</td>\n",
       "      <td>-0.110474</td>\n",
       "      <td>0.066928</td>\n",
       "      <td>0.128539</td>\n",
       "      <td>-0.189115</td>\n",
       "      <td>0.133558</td>\n",
       "      <td>-0.021053</td>\n",
       "      <td>0.244964</td>\n",
       "      <td>0</td>\n",
       "    </tr>\n",
       "    <tr>\n",
       "      <th>1</th>\n",
       "      <td>1.191857</td>\n",
       "      <td>0.266151</td>\n",
       "      <td>0.166480</td>\n",
       "      <td>0.448154</td>\n",
       "      <td>0.060018</td>\n",
       "      <td>-0.082361</td>\n",
       "      <td>-0.078803</td>\n",
       "      <td>0.085102</td>\n",
       "      <td>-0.255425</td>\n",
       "      <td>-0.166974</td>\n",
       "      <td>1.612727</td>\n",
       "      <td>1.065235</td>\n",
       "      <td>0.489095</td>\n",
       "      <td>-0.143772</td>\n",
       "      <td>0.635558</td>\n",
       "      <td>0.463917</td>\n",
       "      <td>-0.114805</td>\n",
       "      <td>-0.183361</td>\n",
       "      <td>-0.145783</td>\n",
       "      <td>-0.069083</td>\n",
       "      <td>-0.225775</td>\n",
       "      <td>-0.638672</td>\n",
       "      <td>0.101288</td>\n",
       "      <td>-0.339846</td>\n",
       "      <td>0.167170</td>\n",
       "      <td>0.125895</td>\n",
       "      <td>-0.008983</td>\n",
       "      <td>0.014724</td>\n",
       "      <td>-0.342475</td>\n",
       "      <td>0</td>\n",
       "    </tr>\n",
       "    <tr>\n",
       "      <th>2</th>\n",
       "      <td>-1.358354</td>\n",
       "      <td>-1.340163</td>\n",
       "      <td>1.773209</td>\n",
       "      <td>0.379780</td>\n",
       "      <td>-0.503198</td>\n",
       "      <td>1.800499</td>\n",
       "      <td>0.791461</td>\n",
       "      <td>0.247676</td>\n",
       "      <td>-1.514654</td>\n",
       "      <td>0.207643</td>\n",
       "      <td>0.624501</td>\n",
       "      <td>0.066084</td>\n",
       "      <td>0.717293</td>\n",
       "      <td>-0.165946</td>\n",
       "      <td>2.345865</td>\n",
       "      <td>-2.890083</td>\n",
       "      <td>1.109969</td>\n",
       "      <td>-0.121359</td>\n",
       "      <td>-2.261857</td>\n",
       "      <td>0.524980</td>\n",
       "      <td>0.247998</td>\n",
       "      <td>0.771679</td>\n",
       "      <td>0.909412</td>\n",
       "      <td>-0.689281</td>\n",
       "      <td>-0.327642</td>\n",
       "      <td>-0.139097</td>\n",
       "      <td>-0.055353</td>\n",
       "      <td>-0.059752</td>\n",
       "      <td>1.160686</td>\n",
       "      <td>0</td>\n",
       "    </tr>\n",
       "    <tr>\n",
       "      <th>3</th>\n",
       "      <td>-0.966272</td>\n",
       "      <td>-0.185226</td>\n",
       "      <td>1.792993</td>\n",
       "      <td>-0.863291</td>\n",
       "      <td>-0.010309</td>\n",
       "      <td>1.247203</td>\n",
       "      <td>0.237609</td>\n",
       "      <td>0.377436</td>\n",
       "      <td>-1.387024</td>\n",
       "      <td>-0.054952</td>\n",
       "      <td>-0.226487</td>\n",
       "      <td>0.178228</td>\n",
       "      <td>0.507757</td>\n",
       "      <td>-0.287924</td>\n",
       "      <td>-0.631418</td>\n",
       "      <td>-1.059647</td>\n",
       "      <td>-0.684093</td>\n",
       "      <td>1.965775</td>\n",
       "      <td>-1.232622</td>\n",
       "      <td>-0.208038</td>\n",
       "      <td>-0.108300</td>\n",
       "      <td>0.005274</td>\n",
       "      <td>-0.190321</td>\n",
       "      <td>-1.175575</td>\n",
       "      <td>0.647376</td>\n",
       "      <td>-0.221929</td>\n",
       "      <td>0.062723</td>\n",
       "      <td>0.061458</td>\n",
       "      <td>0.140534</td>\n",
       "      <td>0</td>\n",
       "    </tr>\n",
       "    <tr>\n",
       "      <th>4</th>\n",
       "      <td>-1.158233</td>\n",
       "      <td>0.877737</td>\n",
       "      <td>1.548718</td>\n",
       "      <td>0.403034</td>\n",
       "      <td>-0.407193</td>\n",
       "      <td>0.095921</td>\n",
       "      <td>0.592941</td>\n",
       "      <td>-0.270533</td>\n",
       "      <td>0.817739</td>\n",
       "      <td>0.753074</td>\n",
       "      <td>-0.822843</td>\n",
       "      <td>0.538196</td>\n",
       "      <td>1.345852</td>\n",
       "      <td>-1.119670</td>\n",
       "      <td>0.175121</td>\n",
       "      <td>-0.451449</td>\n",
       "      <td>-0.237033</td>\n",
       "      <td>-0.038195</td>\n",
       "      <td>0.803487</td>\n",
       "      <td>0.408542</td>\n",
       "      <td>-0.009431</td>\n",
       "      <td>0.798278</td>\n",
       "      <td>-0.137458</td>\n",
       "      <td>0.141267</td>\n",
       "      <td>-0.206010</td>\n",
       "      <td>0.502292</td>\n",
       "      <td>0.219422</td>\n",
       "      <td>0.215153</td>\n",
       "      <td>-0.073403</td>\n",
       "      <td>0</td>\n",
       "    </tr>\n",
       "  </tbody>\n",
       "</table>\n",
       "</div>"
      ],
      "text/plain": [
       "         V1        V2        V3        V4        V5        V6        V7  \\\n",
       "0 -1.359807 -0.072781  2.536347  1.378155 -0.338321  0.462388  0.239599   \n",
       "1  1.191857  0.266151  0.166480  0.448154  0.060018 -0.082361 -0.078803   \n",
       "2 -1.358354 -1.340163  1.773209  0.379780 -0.503198  1.800499  0.791461   \n",
       "3 -0.966272 -0.185226  1.792993 -0.863291 -0.010309  1.247203  0.237609   \n",
       "4 -1.158233  0.877737  1.548718  0.403034 -0.407193  0.095921  0.592941   \n",
       "\n",
       "         V8        V9       V10       V11       V12       V13       V14  \\\n",
       "0  0.098698  0.363787  0.090794 -0.551600 -0.617801 -0.991390 -0.311169   \n",
       "1  0.085102 -0.255425 -0.166974  1.612727  1.065235  0.489095 -0.143772   \n",
       "2  0.247676 -1.514654  0.207643  0.624501  0.066084  0.717293 -0.165946   \n",
       "3  0.377436 -1.387024 -0.054952 -0.226487  0.178228  0.507757 -0.287924   \n",
       "4 -0.270533  0.817739  0.753074 -0.822843  0.538196  1.345852 -1.119670   \n",
       "\n",
       "        V15       V16       V17       V18       V19       V20       V21  \\\n",
       "0  1.468177 -0.470401  0.207971  0.025791  0.403993  0.251412 -0.018307   \n",
       "1  0.635558  0.463917 -0.114805 -0.183361 -0.145783 -0.069083 -0.225775   \n",
       "2  2.345865 -2.890083  1.109969 -0.121359 -2.261857  0.524980  0.247998   \n",
       "3 -0.631418 -1.059647 -0.684093  1.965775 -1.232622 -0.208038 -0.108300   \n",
       "4  0.175121 -0.451449 -0.237033 -0.038195  0.803487  0.408542 -0.009431   \n",
       "\n",
       "        V22       V23       V24       V25       V26       V27       V28  \\\n",
       "0  0.277838 -0.110474  0.066928  0.128539 -0.189115  0.133558 -0.021053   \n",
       "1 -0.638672  0.101288 -0.339846  0.167170  0.125895 -0.008983  0.014724   \n",
       "2  0.771679  0.909412 -0.689281 -0.327642 -0.139097 -0.055353 -0.059752   \n",
       "3  0.005274 -0.190321 -1.175575  0.647376 -0.221929  0.062723  0.061458   \n",
       "4  0.798278 -0.137458  0.141267 -0.206010  0.502292  0.219422  0.215153   \n",
       "\n",
       "     Amount  Class  \n",
       "0  0.244964      0  \n",
       "1 -0.342475      0  \n",
       "2  1.160686      0  \n",
       "3  0.140534      0  \n",
       "4 -0.073403      0  "
      ]
     },
     "execution_count": 15,
     "metadata": {},
     "output_type": "execute_result"
    }
   ],
   "source": [
    "data.head()"
   ]
  },
  {
   "cell_type": "code",
   "execution_count": 16,
   "id": "09a5c3dd",
   "metadata": {
    "execution": {
     "iopub.execute_input": "2024-11-03T12:27:05.319797Z",
     "iopub.status.busy": "2024-11-03T12:27:05.319315Z",
     "iopub.status.idle": "2024-11-03T12:27:06.284725Z",
     "shell.execute_reply": "2024-11-03T12:27:06.283360Z"
    },
    "papermill": {
     "duration": 0.988855,
     "end_time": "2024-11-03T12:27:06.287426",
     "exception": false,
     "start_time": "2024-11-03T12:27:05.298571",
     "status": "completed"
    },
    "tags": []
   },
   "outputs": [
    {
     "data": {
      "text/plain": [
       "True"
      ]
     },
     "execution_count": 16,
     "metadata": {},
     "output_type": "execute_result"
    }
   ],
   "source": [
    "data.duplicated().any()"
   ]
  },
  {
   "cell_type": "code",
   "execution_count": 17,
   "id": "cd2a61e4",
   "metadata": {
    "execution": {
     "iopub.execute_input": "2024-11-03T12:27:06.328435Z",
     "iopub.status.busy": "2024-11-03T12:27:06.327990Z",
     "iopub.status.idle": "2024-11-03T12:27:07.304315Z",
     "shell.execute_reply": "2024-11-03T12:27:07.303146Z"
    },
    "papermill": {
     "duration": 1.000544,
     "end_time": "2024-11-03T12:27:07.307415",
     "exception": false,
     "start_time": "2024-11-03T12:27:06.306871",
     "status": "completed"
    },
    "tags": []
   },
   "outputs": [],
   "source": [
    "data = data.drop_duplicates()"
   ]
  },
  {
   "cell_type": "code",
   "execution_count": 18,
   "id": "5bd61dd2",
   "metadata": {
    "execution": {
     "iopub.execute_input": "2024-11-03T12:27:07.348560Z",
     "iopub.status.busy": "2024-11-03T12:27:07.347464Z",
     "iopub.status.idle": "2024-11-03T12:27:07.355229Z",
     "shell.execute_reply": "2024-11-03T12:27:07.353899Z"
    },
    "papermill": {
     "duration": 0.031474,
     "end_time": "2024-11-03T12:27:07.358219",
     "exception": false,
     "start_time": "2024-11-03T12:27:07.326745",
     "status": "completed"
    },
    "tags": []
   },
   "outputs": [
    {
     "data": {
      "text/plain": [
       "(275663, 30)"
      ]
     },
     "execution_count": 18,
     "metadata": {},
     "output_type": "execute_result"
    }
   ],
   "source": [
    "data.shape"
   ]
  },
  {
   "cell_type": "code",
   "execution_count": 19,
   "id": "23dbe77f",
   "metadata": {
    "execution": {
     "iopub.execute_input": "2024-11-03T12:27:07.400276Z",
     "iopub.status.busy": "2024-11-03T12:27:07.399847Z",
     "iopub.status.idle": "2024-11-03T12:27:07.412189Z",
     "shell.execute_reply": "2024-11-03T12:27:07.410828Z"
    },
    "papermill": {
     "duration": 0.036381,
     "end_time": "2024-11-03T12:27:07.414611",
     "exception": false,
     "start_time": "2024-11-03T12:27:07.378230",
     "status": "completed"
    },
    "tags": []
   },
   "outputs": [
    {
     "data": {
      "text/plain": [
       "Class\n",
       "0    275190\n",
       "1       473\n",
       "Name: count, dtype: int64"
      ]
     },
     "execution_count": 19,
     "metadata": {},
     "output_type": "execute_result"
    }
   ],
   "source": [
    "data['Class'].value_counts()"
   ]
  },
  {
   "cell_type": "code",
   "execution_count": 20,
   "id": "2b72c42a",
   "metadata": {
    "execution": {
     "iopub.execute_input": "2024-11-03T12:27:07.455890Z",
     "iopub.status.busy": "2024-11-03T12:27:07.455392Z",
     "iopub.status.idle": "2024-11-03T12:27:08.086843Z",
     "shell.execute_reply": "2024-11-03T12:27:08.085527Z"
    },
    "papermill": {
     "duration": 0.655419,
     "end_time": "2024-11-03T12:27:08.089627",
     "exception": false,
     "start_time": "2024-11-03T12:27:07.434208",
     "status": "completed"
    },
    "tags": []
   },
   "outputs": [],
   "source": [
    "import seaborn as sns\n",
    "import matplotlib.pyplot as plt\n",
    "plt.style.use('ggplot')\n",
    "\n"
   ]
  },
  {
   "cell_type": "code",
   "execution_count": 21,
   "id": "badf2b82",
   "metadata": {
    "execution": {
     "iopub.execute_input": "2024-11-03T12:27:08.131717Z",
     "iopub.status.busy": "2024-11-03T12:27:08.131084Z",
     "iopub.status.idle": "2024-11-03T12:27:08.384699Z",
     "shell.execute_reply": "2024-11-03T12:27:08.383278Z"
    },
    "papermill": {
     "duration": 0.277756,
     "end_time": "2024-11-03T12:27:08.387450",
     "exception": false,
     "start_time": "2024-11-03T12:27:08.109694",
     "status": "completed"
    },
    "tags": []
   },
   "outputs": [
    {
     "data": {
      "image/png": "[encoded data removed]",
      "text/plain": [
       "<Figure size 640x480 with 1 Axes>"
      ]
     },
     "metadata": {},
     "output_type": "display_data"
    }
   ],
   "source": [
    "sns.countplot(data['Class'])\n",
    "plt.show()"
   ]
  },
  {
   "cell_type": "markdown",
   "id": "b4765e95",
   "metadata": {
    "papermill": {
     "duration": 0.01975,
     "end_time": "2024-11-03T12:27:08.427731",
     "exception": false,
     "start_time": "2024-11-03T12:27:08.407981",
     "status": "completed"
    },
    "tags": []
   },
   "source": [
    "**TRAIN TEST SPLIT**"
   ]
  },
  {
   "cell_type": "code",
   "execution_count": 22,
   "id": "37961a85",
   "metadata": {
    "execution": {
     "iopub.execute_input": "2024-11-03T12:27:08.469713Z",
     "iopub.status.busy": "2024-11-03T12:27:08.469234Z",
     "iopub.status.idle": "2024-11-03T12:27:08.505021Z",
     "shell.execute_reply": "2024-11-03T12:27:08.503890Z"
    },
    "papermill": {
     "duration": 0.060251,
     "end_time": "2024-11-03T12:27:08.507915",
     "exception": false,
     "start_time": "2024-11-03T12:27:08.447664",
     "status": "completed"
    },
    "tags": []
   },
   "outputs": [],
   "source": [
    "X = data.drop('Class', axis = 1)\n",
    "y=data['Class']"
   ]
  },
  {
   "cell_type": "code",
   "execution_count": 23,
   "id": "04433a3c",
   "metadata": {
    "execution": {
     "iopub.execute_input": "2024-11-03T12:27:08.550954Z",
     "iopub.status.busy": "2024-11-03T12:27:08.550500Z",
     "iopub.status.idle": "2024-11-03T12:27:08.793591Z",
     "shell.execute_reply": "2024-11-03T12:27:08.792216Z"
    },
    "papermill": {
     "duration": 0.267995,
     "end_time": "2024-11-03T12:27:08.796733",
     "exception": false,
     "start_time": "2024-11-03T12:27:08.528738",
     "status": "completed"
    },
    "tags": []
   },
   "outputs": [],
   "source": [
    "from sklearn.model_selection import train_test_split\n",
    "X_train, X_test, y_train, y_test = train_test_split(X, y, test_size = 0.2, random_state = 42)"
   ]
  },
  {
   "cell_type": "markdown",
   "id": "80c81b6d",
   "metadata": {
    "papermill": {
     "duration": 0.019745,
     "end_time": "2024-11-03T12:27:08.836512",
     "exception": false,
     "start_time": "2024-11-03T12:27:08.816767",
     "status": "completed"
    },
    "tags": []
   },
   "source": [
    "# MODEL TRAINING"
   ]
  },
  {
   "cell_type": "code",
   "execution_count": 24,
   "id": "0d454ea0",
   "metadata": {
    "execution": {
     "iopub.execute_input": "2024-11-03T12:27:08.878282Z",
     "iopub.status.busy": "2024-11-03T12:27:08.877832Z",
     "iopub.status.idle": "2024-11-03T12:27:09.171570Z",
     "shell.execute_reply": "2024-11-03T12:27:09.169902Z"
    },
    "papermill": {
     "duration": 0.318395,
     "end_time": "2024-11-03T12:27:09.174940",
     "exception": false,
     "start_time": "2024-11-03T12:27:08.856545",
     "status": "completed"
    },
    "tags": []
   },
   "outputs": [],
   "source": [
    "from sklearn.metrics import accuracy_score, precision_score, recall_score, f1_score, confusion_matrix, classification_report\n",
    "from sklearn.linear_model import LogisticRegression\n",
    "from sklearn.tree import DecisionTreeClassifier\n",
    "from sklearn.ensemble import RandomForestClassifier\n",
    "from sklearn.svm import SVC\n",
    "from sklearn.neighbors import KNeighborsClassifier"
   ]
  },
  {
   "cell_type": "code",
   "execution_count": 25,
   "id": "40eba7e9",
   "metadata": {
    "execution": {
     "iopub.execute_input": "2024-11-03T12:27:09.217708Z",
     "iopub.status.busy": "2024-11-03T12:27:09.217259Z",
     "iopub.status.idle": "2024-11-03T12:32:46.394637Z",
     "shell.execute_reply": "2024-11-03T12:32:46.393370Z"
    },
    "papermill": {
     "duration": 337.22226,
     "end_time": "2024-11-03T12:32:46.417983",
     "exception": false,
     "start_time": "2024-11-03T12:27:09.195723",
     "status": "completed"
    },
    "tags": []
   },
   "outputs": [
    {
     "name": "stdout",
     "output_type": "stream",
     "text": [
      "\n",
      "==========Logistic Regression===========\n",
      "\n",
      " Accuracy: 0.9992200678359603\n",
      " Precision: 0.8870967741935484\n",
      " Recall: 0.6043956043956044\n",
      " F1 Score: 0.718954248366013\n",
      "\n",
      " Confusion Matrix:\n",
      "[[55035     7]\n",
      " [   36    55]]\n",
      "\n",
      " Classification Report:\n",
      "              precision    recall  f1-score   support\n",
      "\n",
      "           0       1.00      1.00      1.00     55042\n",
      "           1       0.89      0.60      0.72        91\n",
      "\n",
      "    accuracy                           1.00     55133\n",
      "   macro avg       0.94      0.80      0.86     55133\n",
      "weighted avg       1.00      1.00      1.00     55133\n",
      "\n",
      "\n",
      "==========Decision Tree Classifier===========\n",
      "\n",
      " Accuracy: 0.9990024123483213\n",
      " Precision: 0.6875\n",
      " Recall: 0.7252747252747253\n",
      " F1 Score: 0.7058823529411764\n",
      "\n",
      " Confusion Matrix:\n",
      "[[55012    30]\n",
      " [   25    66]]\n",
      "\n",
      " Classification Report:\n",
      "              precision    recall  f1-score   support\n",
      "\n",
      "           0       1.00      1.00      1.00     55042\n",
      "           1       0.69      0.73      0.71        91\n",
      "\n",
      "    accuracy                           1.00     55133\n",
      "   macro avg       0.84      0.86      0.85     55133\n",
      "weighted avg       1.00      1.00      1.00     55133\n",
      "\n",
      "\n",
      "==========Random Forest Classifier===========\n",
      "\n",
      " Accuracy: 0.9994377233235993\n",
      " Precision: 0.9166666666666666\n",
      " Recall: 0.7252747252747253\n",
      " F1 Score: 0.8098159509202454\n",
      "\n",
      " Confusion Matrix:\n",
      "[[55036     6]\n",
      " [   25    66]]\n",
      "\n",
      " Classification Report:\n",
      "              precision    recall  f1-score   support\n",
      "\n",
      "           0       1.00      1.00      1.00     55042\n",
      "           1       0.92      0.73      0.81        91\n",
      "\n",
      "    accuracy                           1.00     55133\n",
      "   macro avg       0.96      0.86      0.90     55133\n",
      "weighted avg       1.00      1.00      1.00     55133\n",
      "\n"
     ]
    }
   ],
   "source": [
    "from sklearn.metrics import accuracy_score, precision_score, recall_score, f1_score, confusion_matrix, classification_report\n",
    "from sklearn.linear_model import LogisticRegression\n",
    "\n",
    "\n",
    "classifier = {\n",
    "    \"Logistic Regression\": LogisticRegression(),\n",
    "    \"Decision Tree Classifier\": DecisionTreeClassifier(),\n",
    "    \"Random Forest Classifier\": RandomForestClassifier(),\n",
    "    }\n",
    "for name, clf in classifier.items():\n",
    "    print(f\"\\n=========={name}===========\")\n",
    "    clf.fit(X_train, y_train)\n",
    "    y_pred = clf.predict(X_test)\n",
    "    \n",
    "    # Evaluation Metrics\n",
    "    accuracy = accuracy_score(y_test, y_pred)\n",
    "    precision = precision_score(y_test, y_pred)\n",
    "    recall = recall_score(y_test, y_pred)\n",
    "    f1 = f1_score(y_test, y_pred)\n",
    "    print(f\"\\n Accuracy: {accuracy}\")\n",
    "    print(f\" Precision: {precision}\")\n",
    "    print(f\" Recall: {recall}\")\n",
    "    print(f\" F1 Score: {f1}\")\n",
    "     # Confusion Matrix\n",
    "    print(\"\\n Confusion Matrix:\")\n",
    "    print(confusion_matrix(y_test, y_pred))\n",
    "    \n",
    "    # Classification Report\n",
    "    print(\"\\n Classification Report:\")\n",
    "    print(classification_report(y_test, y_pred))"
   ]
  },
  {
   "cell_type": "markdown",
   "id": "900f0d6b",
   "metadata": {
    "papermill": {
     "duration": 0.020523,
     "end_time": "2024-11-03T12:32:46.459980",
     "exception": false,
     "start_time": "2024-11-03T12:32:46.439457",
     "status": "completed"
    },
    "tags": []
   },
   "source": [
    "# under sampling"
   ]
  },
  {
   "cell_type": "code",
   "execution_count": 26,
   "id": "a9680238",
   "metadata": {
    "execution": {
     "iopub.execute_input": "2024-11-03T12:32:46.505522Z",
     "iopub.status.busy": "2024-11-03T12:32:46.505040Z",
     "iopub.status.idle": "2024-11-03T12:32:46.550736Z",
     "shell.execute_reply": "2024-11-03T12:32:46.549277Z"
    },
    "papermill": {
     "duration": 0.07205,
     "end_time": "2024-11-03T12:32:46.553660",
     "exception": false,
     "start_time": "2024-11-03T12:32:46.481610",
     "status": "completed"
    },
    "tags": []
   },
   "outputs": [],
   "source": [
    "normal = data[data['Class']==0]\n",
    "fraud = data[data['Class']==1]"
   ]
  },
  {
   "cell_type": "code",
   "execution_count": 27,
   "id": "5b363312",
   "metadata": {
    "execution": {
     "iopub.execute_input": "2024-11-03T12:32:46.598141Z",
     "iopub.status.busy": "2024-11-03T12:32:46.597668Z",
     "iopub.status.idle": "2024-11-03T12:32:46.606464Z",
     "shell.execute_reply": "2024-11-03T12:32:46.604982Z"
    },
    "papermill": {
     "duration": 0.033588,
     "end_time": "2024-11-03T12:32:46.609190",
     "exception": false,
     "start_time": "2024-11-03T12:32:46.575602",
     "status": "completed"
    },
    "tags": []
   },
   "outputs": [
    {
     "data": {
      "text/plain": [
       "(275190, 30)"
      ]
     },
     "execution_count": 27,
     "metadata": {},
     "output_type": "execute_result"
    }
   ],
   "source": [
    "normal.shape"
   ]
  },
  {
   "cell_type": "code",
   "execution_count": 28,
   "id": "f5de1484",
   "metadata": {
    "execution": {
     "iopub.execute_input": "2024-11-03T12:32:46.655186Z",
     "iopub.status.busy": "2024-11-03T12:32:46.654301Z",
     "iopub.status.idle": "2024-11-03T12:32:46.661848Z",
     "shell.execute_reply": "2024-11-03T12:32:46.660710Z"
    },
    "papermill": {
     "duration": 0.033607,
     "end_time": "2024-11-03T12:32:46.664538",
     "exception": false,
     "start_time": "2024-11-03T12:32:46.630931",
     "status": "completed"
    },
    "tags": []
   },
   "outputs": [
    {
     "data": {
      "text/plain": [
       "(473, 30)"
      ]
     },
     "execution_count": 28,
     "metadata": {},
     "output_type": "execute_result"
    }
   ],
   "source": [
    "fraud.shape"
   ]
  },
  {
   "cell_type": "code",
   "execution_count": 29,
   "id": "674b5edd",
   "metadata": {
    "execution": {
     "iopub.execute_input": "2024-11-03T12:32:46.708331Z",
     "iopub.status.busy": "2024-11-03T12:32:46.707838Z",
     "iopub.status.idle": "2024-11-03T12:32:46.723750Z",
     "shell.execute_reply": "2024-11-03T12:32:46.722439Z"
    },
    "papermill": {
     "duration": 0.042992,
     "end_time": "2024-11-03T12:32:46.728103",
     "exception": false,
     "start_time": "2024-11-03T12:32:46.685111",
     "status": "completed"
    },
    "tags": []
   },
   "outputs": [],
   "source": [
    "normal_sample = normal.sample(n=473)"
   ]
  },
  {
   "cell_type": "code",
   "execution_count": 30,
   "id": "41d37fee",
   "metadata": {
    "execution": {
     "iopub.execute_input": "2024-11-03T12:32:46.772020Z",
     "iopub.status.busy": "2024-11-03T12:32:46.771587Z",
     "iopub.status.idle": "2024-11-03T12:32:46.779790Z",
     "shell.execute_reply": "2024-11-03T12:32:46.778365Z"
    },
    "papermill": {
     "duration": 0.033352,
     "end_time": "2024-11-03T12:32:46.782583",
     "exception": false,
     "start_time": "2024-11-03T12:32:46.749231",
     "status": "completed"
    },
    "tags": []
   },
   "outputs": [
    {
     "data": {
      "text/plain": [
       "(473, 30)"
      ]
     },
     "execution_count": 30,
     "metadata": {},
     "output_type": "execute_result"
    }
   ],
   "source": [
    "normal_sample.shape"
   ]
  },
  {
   "cell_type": "code",
   "execution_count": 31,
   "id": "2908d0c7",
   "metadata": {
    "execution": {
     "iopub.execute_input": "2024-11-03T12:32:46.827246Z",
     "iopub.status.busy": "2024-11-03T12:32:46.826756Z",
     "iopub.status.idle": "2024-11-03T12:32:46.833542Z",
     "shell.execute_reply": "2024-11-03T12:32:46.832286Z"
    },
    "papermill": {
     "duration": 0.032124,
     "end_time": "2024-11-03T12:32:46.836373",
     "exception": false,
     "start_time": "2024-11-03T12:32:46.804249",
     "status": "completed"
    },
    "tags": []
   },
   "outputs": [],
   "source": [
    "new_data = pd.concat([normal_sample,fraud], ignore_index=True)"
   ]
  },
  {
   "cell_type": "code",
   "execution_count": 32,
   "id": "41f30a9b",
   "metadata": {
    "execution": {
     "iopub.execute_input": "2024-11-03T12:32:46.881415Z",
     "iopub.status.busy": "2024-11-03T12:32:46.880888Z",
     "iopub.status.idle": "2024-11-03T12:32:46.914196Z",
     "shell.execute_reply": "2024-11-03T12:32:46.912913Z"
    },
    "papermill": {
     "duration": 0.059446,
     "end_time": "2024-11-03T12:32:46.917195",
     "exception": false,
     "start_time": "2024-11-03T12:32:46.857749",
     "status": "completed"
    },
    "tags": []
   },
   "outputs": [
    {
     "data": {
      "text/html": [
       "<div>\n",
       "<style scoped>\n",
       "    .dataframe tbody tr th:only-of-type {\n",
       "        vertical-align: middle;\n",
       "    }\n",
       "\n",
       "    .dataframe tbody tr th {\n",
       "        vertical-align: top;\n",
       "    }\n",
       "\n",
       "    .dataframe thead th {\n",
       "        text-align: right;\n",
       "    }\n",
       "</style>\n",
       "<table border=\"1\" class=\"dataframe\">\n",
       "  <thead>\n",
       "    <tr style=\"text-align: right;\">\n",
       "      <th></th>\n",
       "      <th>V1</th>\n",
       "      <th>V2</th>\n",
       "      <th>V3</th>\n",
       "      <th>V4</th>\n",
       "      <th>V5</th>\n",
       "      <th>V6</th>\n",
       "      <th>V7</th>\n",
       "      <th>V8</th>\n",
       "      <th>V9</th>\n",
       "      <th>V10</th>\n",
       "      <th>V11</th>\n",
       "      <th>V12</th>\n",
       "      <th>V13</th>\n",
       "      <th>V14</th>\n",
       "      <th>V15</th>\n",
       "      <th>V16</th>\n",
       "      <th>V17</th>\n",
       "      <th>V18</th>\n",
       "      <th>V19</th>\n",
       "      <th>V20</th>\n",
       "      <th>V21</th>\n",
       "      <th>V22</th>\n",
       "      <th>V23</th>\n",
       "      <th>V24</th>\n",
       "      <th>V25</th>\n",
       "      <th>V26</th>\n",
       "      <th>V27</th>\n",
       "      <th>V28</th>\n",
       "      <th>Amount</th>\n",
       "      <th>Class</th>\n",
       "    </tr>\n",
       "  </thead>\n",
       "  <tbody>\n",
       "    <tr>\n",
       "      <th>0</th>\n",
       "      <td>0.813189</td>\n",
       "      <td>-0.479276</td>\n",
       "      <td>-0.355841</td>\n",
       "      <td>1.212786</td>\n",
       "      <td>0.113320</td>\n",
       "      <td>0.375493</td>\n",
       "      <td>0.308620</td>\n",
       "      <td>0.107079</td>\n",
       "      <td>-0.012380</td>\n",
       "      <td>0.061332</td>\n",
       "      <td>0.470593</td>\n",
       "      <td>0.256862</td>\n",
       "      <td>-1.224695</td>\n",
       "      <td>0.706821</td>\n",
       "      <td>-0.257353</td>\n",
       "      <td>-0.191352</td>\n",
       "      <td>-0.263363</td>\n",
       "      <td>0.014399</td>\n",
       "      <td>0.004593</td>\n",
       "      <td>0.170419</td>\n",
       "      <td>0.107537</td>\n",
       "      <td>-0.039221</td>\n",
       "      <td>-0.378123</td>\n",
       "      <td>-0.660958</td>\n",
       "      <td>0.715764</td>\n",
       "      <td>-0.223885</td>\n",
       "      <td>-0.024551</td>\n",
       "      <td>0.025836</td>\n",
       "      <td>0.464299</td>\n",
       "      <td>0</td>\n",
       "    </tr>\n",
       "    <tr>\n",
       "      <th>1</th>\n",
       "      <td>1.898663</td>\n",
       "      <td>-0.274094</td>\n",
       "      <td>-1.110143</td>\n",
       "      <td>0.419071</td>\n",
       "      <td>0.442561</td>\n",
       "      <td>0.548710</td>\n",
       "      <td>-0.147481</td>\n",
       "      <td>0.122097</td>\n",
       "      <td>0.964502</td>\n",
       "      <td>-0.317742</td>\n",
       "      <td>-0.230602</td>\n",
       "      <td>1.252075</td>\n",
       "      <td>0.617058</td>\n",
       "      <td>0.001466</td>\n",
       "      <td>0.257313</td>\n",
       "      <td>-1.663444</td>\n",
       "      <td>0.771913</td>\n",
       "      <td>-1.921834</td>\n",
       "      <td>-1.003233</td>\n",
       "      <td>-0.322433</td>\n",
       "      <td>0.190386</td>\n",
       "      <td>1.046186</td>\n",
       "      <td>0.108917</td>\n",
       "      <td>-0.897199</td>\n",
       "      <td>0.065019</td>\n",
       "      <td>-0.052379</td>\n",
       "      <td>0.058974</td>\n",
       "      <td>-0.066896</td>\n",
       "      <td>-0.346713</td>\n",
       "      <td>0</td>\n",
       "    </tr>\n",
       "    <tr>\n",
       "      <th>2</th>\n",
       "      <td>-0.590636</td>\n",
       "      <td>1.654659</td>\n",
       "      <td>2.059315</td>\n",
       "      <td>3.909861</td>\n",
       "      <td>0.863584</td>\n",
       "      <td>2.299379</td>\n",
       "      <td>-0.323049</td>\n",
       "      <td>-0.260257</td>\n",
       "      <td>-2.087675</td>\n",
       "      <td>1.422809</td>\n",
       "      <td>-0.087456</td>\n",
       "      <td>-0.127257</td>\n",
       "      <td>0.587031</td>\n",
       "      <td>0.070992</td>\n",
       "      <td>0.386065</td>\n",
       "      <td>0.587115</td>\n",
       "      <td>-0.389052</td>\n",
       "      <td>0.837705</td>\n",
       "      <td>1.809370</td>\n",
       "      <td>0.135778</td>\n",
       "      <td>0.576727</td>\n",
       "      <td>-0.836814</td>\n",
       "      <td>-0.263745</td>\n",
       "      <td>-0.259819</td>\n",
       "      <td>-0.060262</td>\n",
       "      <td>0.199806</td>\n",
       "      <td>0.160473</td>\n",
       "      <td>0.102812</td>\n",
       "      <td>-0.347352</td>\n",
       "      <td>0</td>\n",
       "    </tr>\n",
       "    <tr>\n",
       "      <th>3</th>\n",
       "      <td>1.950606</td>\n",
       "      <td>0.064934</td>\n",
       "      <td>-2.667337</td>\n",
       "      <td>0.506528</td>\n",
       "      <td>0.910651</td>\n",
       "      <td>-1.172518</td>\n",
       "      <td>0.847796</td>\n",
       "      <td>-0.481743</td>\n",
       "      <td>0.046821</td>\n",
       "      <td>-0.378308</td>\n",
       "      <td>-0.500048</td>\n",
       "      <td>0.157025</td>\n",
       "      <td>0.203827</td>\n",
       "      <td>-0.670245</td>\n",
       "      <td>-0.146811</td>\n",
       "      <td>-0.270410</td>\n",
       "      <td>0.797710</td>\n",
       "      <td>-0.298608</td>\n",
       "      <td>-0.093214</td>\n",
       "      <td>0.019123</td>\n",
       "      <td>0.083053</td>\n",
       "      <td>0.248589</td>\n",
       "      <td>-0.104658</td>\n",
       "      <td>0.598812</td>\n",
       "      <td>0.378870</td>\n",
       "      <td>0.680159</td>\n",
       "      <td>-0.114996</td>\n",
       "      <td>-0.037650</td>\n",
       "      <td>0.006598</td>\n",
       "      <td>0</td>\n",
       "    </tr>\n",
       "    <tr>\n",
       "      <th>4</th>\n",
       "      <td>1.086825</td>\n",
       "      <td>0.288374</td>\n",
       "      <td>0.580032</td>\n",
       "      <td>1.109753</td>\n",
       "      <td>0.135380</td>\n",
       "      <td>0.422954</td>\n",
       "      <td>-0.212483</td>\n",
       "      <td>0.139582</td>\n",
       "      <td>1.033515</td>\n",
       "      <td>-0.305400</td>\n",
       "      <td>2.775144</td>\n",
       "      <td>-1.288135</td>\n",
       "      <td>1.805100</td>\n",
       "      <td>1.972392</td>\n",
       "      <td>0.063117</td>\n",
       "      <td>-0.261176</td>\n",
       "      <td>0.555670</td>\n",
       "      <td>-0.333224</td>\n",
       "      <td>-1.015633</td>\n",
       "      <td>-0.200395</td>\n",
       "      <td>-0.087769</td>\n",
       "      <td>0.046092</td>\n",
       "      <td>0.028227</td>\n",
       "      <td>-0.359406</td>\n",
       "      <td>0.345784</td>\n",
       "      <td>-0.437058</td>\n",
       "      <td>0.024915</td>\n",
       "      <td>0.004425</td>\n",
       "      <td>-0.297296</td>\n",
       "      <td>0</td>\n",
       "    </tr>\n",
       "  </tbody>\n",
       "</table>\n",
       "</div>"
      ],
      "text/plain": [
       "         V1        V2        V3        V4        V5        V6        V7  \\\n",
       "0  0.813189 -0.479276 -0.355841  1.212786  0.113320  0.375493  0.308620   \n",
       "1  1.898663 -0.274094 -1.110143  0.419071  0.442561  0.548710 -0.147481   \n",
       "2 -0.590636  1.654659  2.059315  3.909861  0.863584  2.299379 -0.323049   \n",
       "3  1.950606  0.064934 -2.667337  0.506528  0.910651 -1.172518  0.847796   \n",
       "4  1.086825  0.288374  0.580032  1.109753  0.135380  0.422954 -0.212483   \n",
       "\n",
       "         V8        V9       V10       V11       V12       V13       V14  \\\n",
       "0  0.107079 -0.012380  0.061332  0.470593  0.256862 -1.224695  0.706821   \n",
       "1  0.122097  0.964502 -0.317742 -0.230602  1.252075  0.617058  0.001466   \n",
       "2 -0.260257 -2.087675  1.422809 -0.087456 -0.127257  0.587031  0.070992   \n",
       "3 -0.481743  0.046821 -0.378308 -0.500048  0.157025  0.203827 -0.670245   \n",
       "4  0.139582  1.033515 -0.305400  2.775144 -1.288135  1.805100  1.972392   \n",
       "\n",
       "        V15       V16       V17       V18       V19       V20       V21  \\\n",
       "0 -0.257353 -0.191352 -0.263363  0.014399  0.004593  0.170419  0.107537   \n",
       "1  0.257313 -1.663444  0.771913 -1.921834 -1.003233 -0.322433  0.190386   \n",
       "2  0.386065  0.587115 -0.389052  0.837705  1.809370  0.135778  0.576727   \n",
       "3 -0.146811 -0.270410  0.797710 -0.298608 -0.093214  0.019123  0.083053   \n",
       "4  0.063117 -0.261176  0.555670 -0.333224 -1.015633 -0.200395 -0.087769   \n",
       "\n",
       "        V22       V23       V24       V25       V26       V27       V28  \\\n",
       "0 -0.039221 -0.378123 -0.660958  0.715764 -0.223885 -0.024551  0.025836   \n",
       "1  1.046186  0.108917 -0.897199  0.065019 -0.052379  0.058974 -0.066896   \n",
       "2 -0.836814 -0.263745 -0.259819 -0.060262  0.199806  0.160473  0.102812   \n",
       "3  0.248589 -0.104658  0.598812  0.378870  0.680159 -0.114996 -0.037650   \n",
       "4  0.046092  0.028227 -0.359406  0.345784 -0.437058  0.024915  0.004425   \n",
       "\n",
       "     Amount  Class  \n",
       "0  0.464299      0  \n",
       "1 -0.346713      0  \n",
       "2 -0.347352      0  \n",
       "3  0.006598      0  \n",
       "4 -0.297296      0  "
      ]
     },
     "execution_count": 32,
     "metadata": {},
     "output_type": "execute_result"
    }
   ],
   "source": [
    "new_data.head()"
   ]
  },
  {
   "cell_type": "code",
   "execution_count": 33,
   "id": "6fd7f0ce",
   "metadata": {
    "execution": {
     "iopub.execute_input": "2024-11-03T12:32:46.962078Z",
     "iopub.status.busy": "2024-11-03T12:32:46.961667Z",
     "iopub.status.idle": "2024-11-03T12:32:46.971816Z",
     "shell.execute_reply": "2024-11-03T12:32:46.970557Z"
    },
    "papermill": {
     "duration": 0.035582,
     "end_time": "2024-11-03T12:32:46.974455",
     "exception": false,
     "start_time": "2024-11-03T12:32:46.938873",
     "status": "completed"
    },
    "tags": []
   },
   "outputs": [
    {
     "data": {
      "text/plain": [
       "Class\n",
       "0    473\n",
       "1    473\n",
       "Name: count, dtype: int64"
      ]
     },
     "execution_count": 33,
     "metadata": {},
     "output_type": "execute_result"
    }
   ],
   "source": [
    "new_data['Class'].value_counts()\n"
   ]
  },
  {
   "cell_type": "code",
   "execution_count": 34,
   "id": "b834eab1",
   "metadata": {
    "execution": {
     "iopub.execute_input": "2024-11-03T12:32:47.020173Z",
     "iopub.status.busy": "2024-11-03T12:32:47.019233Z",
     "iopub.status.idle": "2024-11-03T12:32:47.027373Z",
     "shell.execute_reply": "2024-11-03T12:32:47.025950Z"
    },
    "papermill": {
     "duration": 0.033944,
     "end_time": "2024-11-03T12:32:47.030067",
     "exception": false,
     "start_time": "2024-11-03T12:32:46.996123",
     "status": "completed"
    },
    "tags": []
   },
   "outputs": [],
   "source": [
    "X = new_data.drop('Class', axis = 1)\n",
    "y= new_data['Class']"
   ]
  },
  {
   "cell_type": "code",
   "execution_count": 35,
   "id": "a1d4c351",
   "metadata": {
    "execution": {
     "iopub.execute_input": "2024-11-03T12:32:47.075622Z",
     "iopub.status.busy": "2024-11-03T12:32:47.075130Z",
     "iopub.status.idle": "2024-11-03T12:33:13.875162Z",
     "shell.execute_reply": "2024-11-03T12:33:13.873560Z"
    },
    "papermill": {
     "duration": 26.826536,
     "end_time": "2024-11-03T12:33:13.878551",
     "exception": false,
     "start_time": "2024-11-03T12:32:47.052015",
     "status": "completed"
    },
    "tags": []
   },
   "outputs": [
    {
     "name": "stdout",
     "output_type": "stream",
     "text": [
      "\n",
      "==========Logistic Regression===========\n",
      "\n",
      " Accuaracy: 0.9992200678359603\n",
      "\n",
      " Precision: 0.8870967741935484\n",
      "\n",
      " Recall: 0.6043956043956044\n",
      "\n",
      " F1 Score: 0.718954248366013\n",
      "\n",
      "==========Decision Tree Classifier===========\n",
      "\n",
      " Accuaracy: 0.9989479984764116\n",
      "\n",
      " Precision: 0.6701030927835051\n",
      "\n",
      " Recall: 0.7142857142857143\n",
      "\n",
      " F1 Score: 0.6914893617021276\n"
     ]
    }
   ],
   "source": [
    "classifier = {\n",
    "    \"Logistic Regression\": LogisticRegression(),\n",
    "    \"Decision Tree Classifier\": DecisionTreeClassifier()\n",
    "}\n",
    "\n",
    "for name, clf in classifier.items():\n",
    "    print(f\"\\n=========={name}===========\")\n",
    "    clf.fit(X_train, y_train)\n",
    "    y_pred = clf.predict(X_test)\n",
    "    print(f\"\\n Accuaracy: {accuracy_score(y_test, y_pred)}\")\n",
    "    print(f\"\\n Precision: {precision_score(y_test, y_pred)}\")\n",
    "    print(f\"\\n Recall: {recall_score(y_test, y_pred)}\")\n",
    "    print(f\"\\n F1 Score: {f1_score(y_test, y_pred)}\")"
   ]
  },
  {
   "cell_type": "code",
   "execution_count": 36,
   "id": "3a921e64",
   "metadata": {
    "execution": {
     "iopub.execute_input": "2024-11-03T12:33:13.926707Z",
     "iopub.status.busy": "2024-11-03T12:33:13.926233Z",
     "iopub.status.idle": "2024-11-03T12:33:13.931853Z",
     "shell.execute_reply": "2024-11-03T12:33:13.930541Z"
    },
    "papermill": {
     "duration": 0.032362,
     "end_time": "2024-11-03T12:33:13.934558",
     "exception": false,
     "start_time": "2024-11-03T12:33:13.902196",
     "status": "completed"
    },
    "tags": []
   },
   "outputs": [],
   "source": [
    "#oversampling"
   ]
  },
  {
   "cell_type": "code",
   "execution_count": 37,
   "id": "d85f3fb4",
   "metadata": {
    "execution": {
     "iopub.execute_input": "2024-11-03T12:33:13.982455Z",
     "iopub.status.busy": "2024-11-03T12:33:13.981278Z",
     "iopub.status.idle": "2024-11-03T12:33:14.011733Z",
     "shell.execute_reply": "2024-11-03T12:33:14.010453Z"
    },
    "papermill": {
     "duration": 0.058219,
     "end_time": "2024-11-03T12:33:14.014749",
     "exception": false,
     "start_time": "2024-11-03T12:33:13.956530",
     "status": "completed"
    },
    "tags": []
   },
   "outputs": [],
   "source": [
    "X = data.drop('Class', axis = 1)\n",
    "y= data['Class']"
   ]
  },
  {
   "cell_type": "code",
   "execution_count": 38,
   "id": "375bacfc",
   "metadata": {
    "execution": {
     "iopub.execute_input": "2024-11-03T12:33:14.061331Z",
     "iopub.status.busy": "2024-11-03T12:33:14.060871Z",
     "iopub.status.idle": "2024-11-03T12:33:14.069153Z",
     "shell.execute_reply": "2024-11-03T12:33:14.067883Z"
    },
    "papermill": {
     "duration": 0.035155,
     "end_time": "2024-11-03T12:33:14.072031",
     "exception": false,
     "start_time": "2024-11-03T12:33:14.036876",
     "status": "completed"
    },
    "tags": []
   },
   "outputs": [
    {
     "data": {
      "text/plain": [
       "(275663, 29)"
      ]
     },
     "execution_count": 38,
     "metadata": {},
     "output_type": "execute_result"
    }
   ],
   "source": [
    "X.shape"
   ]
  },
  {
   "cell_type": "code",
   "execution_count": 39,
   "id": "13115108",
   "metadata": {
    "execution": {
     "iopub.execute_input": "2024-11-03T12:33:14.121665Z",
     "iopub.status.busy": "2024-11-03T12:33:14.120371Z",
     "iopub.status.idle": "2024-11-03T12:33:14.128437Z",
     "shell.execute_reply": "2024-11-03T12:33:14.127240Z"
    },
    "papermill": {
     "duration": 0.034353,
     "end_time": "2024-11-03T12:33:14.131159",
     "exception": false,
     "start_time": "2024-11-03T12:33:14.096806",
     "status": "completed"
    },
    "tags": []
   },
   "outputs": [
    {
     "data": {
      "text/plain": [
       "(275663,)"
      ]
     },
     "execution_count": 39,
     "metadata": {},
     "output_type": "execute_result"
    }
   ],
   "source": [
    "y.shape"
   ]
  },
  {
   "cell_type": "code",
   "execution_count": 40,
   "id": "08bcb191",
   "metadata": {
    "execution": {
     "iopub.execute_input": "2024-11-03T12:33:14.179008Z",
     "iopub.status.busy": "2024-11-03T12:33:14.178561Z",
     "iopub.status.idle": "2024-11-03T12:33:14.354462Z",
     "shell.execute_reply": "2024-11-03T12:33:14.353073Z"
    },
    "papermill": {
     "duration": 0.203359,
     "end_time": "2024-11-03T12:33:14.357561",
     "exception": false,
     "start_time": "2024-11-03T12:33:14.154202",
     "status": "completed"
    },
    "tags": []
   },
   "outputs": [],
   "source": [
    "from imblearn.over_sampling import SMOTE"
   ]
  },
  {
   "cell_type": "code",
   "execution_count": 41,
   "id": "33d2faf2",
   "metadata": {
    "execution": {
     "iopub.execute_input": "2024-11-03T12:33:14.405952Z",
     "iopub.status.busy": "2024-11-03T12:33:14.405212Z",
     "iopub.status.idle": "2024-11-03T12:33:15.001839Z",
     "shell.execute_reply": "2024-11-03T12:33:15.000436Z"
    },
    "papermill": {
     "duration": 0.624981,
     "end_time": "2024-11-03T12:33:15.005087",
     "exception": false,
     "start_time": "2024-11-03T12:33:14.380106",
     "status": "completed"
    },
    "tags": []
   },
   "outputs": [],
   "source": [
    "X_res, y_res = SMOTE().fit_resample(X,y)"
   ]
  },
  {
   "cell_type": "code",
   "execution_count": 42,
   "id": "c1844346",
   "metadata": {
    "execution": {
     "iopub.execute_input": "2024-11-03T12:33:15.053316Z",
     "iopub.status.busy": "2024-11-03T12:33:15.052837Z",
     "iopub.status.idle": "2024-11-03T12:33:15.068253Z",
     "shell.execute_reply": "2024-11-03T12:33:15.067009Z"
    },
    "papermill": {
     "duration": 0.043335,
     "end_time": "2024-11-03T12:33:15.070876",
     "exception": false,
     "start_time": "2024-11-03T12:33:15.027541",
     "status": "completed"
    },
    "tags": []
   },
   "outputs": [
    {
     "data": {
      "text/plain": [
       "Class\n",
       "0    275190\n",
       "1    275190\n",
       "Name: count, dtype: int64"
      ]
     },
     "execution_count": 42,
     "metadata": {},
     "output_type": "execute_result"
    }
   ],
   "source": [
    "y_res.value_counts()"
   ]
  },
  {
   "cell_type": "code",
   "execution_count": 43,
   "id": "8530c7a2",
   "metadata": {
    "execution": {
     "iopub.execute_input": "2024-11-03T12:33:15.118306Z",
     "iopub.status.busy": "2024-11-03T12:33:15.117866Z",
     "iopub.status.idle": "2024-11-03T12:33:15.494772Z",
     "shell.execute_reply": "2024-11-03T12:33:15.493374Z"
    },
    "papermill": {
     "duration": 0.403604,
     "end_time": "2024-11-03T12:33:15.497474",
     "exception": false,
     "start_time": "2024-11-03T12:33:15.093870",
     "status": "completed"
    },
    "tags": []
   },
   "outputs": [],
   "source": [
    "X_train, X_test, y_train, y_test = train_test_split(X_res, y_res, test_size = 0.2, random_state = 42)"
   ]
  },
  {
   "cell_type": "code",
   "execution_count": 44,
   "id": "4f3caf75",
   "metadata": {
    "execution": {
     "iopub.execute_input": "2024-11-03T12:33:15.545418Z",
     "iopub.status.busy": "2024-11-03T12:33:15.544965Z",
     "iopub.status.idle": "2024-11-03T12:34:18.551741Z",
     "shell.execute_reply": "2024-11-03T12:34:18.550564Z"
    },
    "papermill": {
     "duration": 63.056952,
     "end_time": "2024-11-03T12:34:18.576924",
     "exception": false,
     "start_time": "2024-11-03T12:33:15.519972",
     "status": "completed"
    },
    "tags": []
   },
   "outputs": [
    {
     "name": "stdout",
     "output_type": "stream",
     "text": [
      "\n",
      "==========Logistic Regression===========\n",
      "\n",
      " Accuaracy: 0.9451379047203751\n",
      "\n",
      " Precision: 0.9729176325142945\n",
      "\n",
      " Recall: 0.9156955075177717\n",
      "\n",
      " F1 Score: 0.9434396980453494\n",
      "\n",
      "==========Decision Tree Classifier===========\n",
      "\n",
      " Accuaracy: 0.9980831425560521\n",
      "\n",
      " Precision: 0.9971509454505861\n",
      "\n",
      " Recall: 0.9990182353689798\n",
      "\n",
      " F1 Score: 0.99808371704402\n"
     ]
    }
   ],
   "source": [
    "classifier = {\n",
    "\"Logistic Regression\": LogisticRegression(),\n",
    "    \"Decision Tree Classifier\": DecisionTreeClassifier()\n",
    "}\n",
    "\n",
    "for name, clf in classifier.items():\n",
    "    print(f\"\\n=========={name}===========\")\n",
    "    clf.fit(X_train, y_train)\n",
    "    y_pred = clf.predict(X_test)\n",
    "    print(f\"\\n Accuaracy: {accuracy_score(y_test, y_pred)}\")\n",
    "    print(f\"\\n Precision: {precision_score(y_test, y_pred)}\")\n",
    "    print(f\"\\n Recall: {recall_score(y_test, y_pred)}\")\n",
    "    print(f\"\\n F1 Score: {f1_score(y_test, y_pred)}\")"
   ]
  },
  {
   "cell_type": "code",
   "execution_count": 45,
   "id": "a7c7e575",
   "metadata": {
    "execution": {
     "iopub.execute_input": "2024-11-03T12:34:18.624452Z",
     "iopub.status.busy": "2024-11-03T12:34:18.624026Z",
     "iopub.status.idle": "2024-11-03T12:35:22.648778Z",
     "shell.execute_reply": "2024-11-03T12:35:22.647393Z"
    },
    "papermill": {
     "duration": 64.075326,
     "end_time": "2024-11-03T12:35:22.675208",
     "exception": false,
     "start_time": "2024-11-03T12:34:18.599882",
     "status": "completed"
    },
    "tags": []
   },
   "outputs": [
    {
     "data": {
      "text/html": [
       "<style>#sk-container-id-1 {color: black;background-color: white;}#sk-container-id-1 pre{padding: 0;}#sk-container-id-1 div.sk-toggleable {background-color: white;}#sk-container-id-1 label.sk-toggleable__label {cursor: pointer;display: block;width: 100%;margin-bottom: 0;padding: 0.3em;box-sizing: border-box;text-align: center;}#sk-container-id-1 label.sk-toggleable__label-arrow:before {content: \"▸\";float: left;margin-right: 0.25em;color: #696969;}#sk-container-id-1 label.sk-toggleable__label-arrow:hover:before {color: black;}#sk-container-id-1 div.sk-estimator:hover label.sk-toggleable__label-arrow:before {color: black;}#sk-container-id-1 div.sk-toggleable__content {max-height: 0;max-width: 0;overflow: hidden;text-align: left;background-color: #f0f8ff;}#sk-container-id-1 div.sk-toggleable__content pre {margin: 0.2em;color: black;border-radius: 0.25em;background-color: #f0f8ff;}#sk-container-id-1 input.sk-toggleable__control:checked~div.sk-toggleable__content {max-height: 200px;max-width: 100%;overflow: auto;}#sk-container-id-1 input.sk-toggleable__control:checked~label.sk-toggleable__label-arrow:before {content: \"▾\";}#sk-container-id-1 div.sk-estimator input.sk-toggleable__control:checked~label.sk-toggleable__label {background-color: #d4ebff;}#sk-container-id-1 div.sk-label input.sk-toggleable__control:checked~label.sk-toggleable__label {background-color: #d4ebff;}#sk-container-id-1 input.sk-hidden--visually {border: 0;clip: rect(1px 1px 1px 1px);clip: rect(1px, 1px, 1px, 1px);height: 1px;margin: -1px;overflow: hidden;padding: 0;position: absolute;width: 1px;}#sk-container-id-1 div.sk-estimator {font-family: monospace;background-color: #f0f8ff;border: 1px dotted black;border-radius: 0.25em;box-sizing: border-box;margin-bottom: 0.5em;}#sk-container-id-1 div.sk-estimator:hover {background-color: #d4ebff;}#sk-container-id-1 div.sk-parallel-item::after {content: \"\";width: 100%;border-bottom: 1px solid gray;flex-grow: 1;}#sk-container-id-1 div.sk-label:hover label.sk-toggleable__label {background-color: #d4ebff;}#sk-container-id-1 div.sk-serial::before {content: \"\";position: absolute;border-left: 1px solid gray;box-sizing: border-box;top: 0;bottom: 0;left: 50%;z-index: 0;}#sk-container-id-1 div.sk-serial {display: flex;flex-direction: column;align-items: center;background-color: white;padding-right: 0.2em;padding-left: 0.2em;position: relative;}#sk-container-id-1 div.sk-item {position: relative;z-index: 1;}#sk-container-id-1 div.sk-parallel {display: flex;align-items: stretch;justify-content: center;background-color: white;position: relative;}#sk-container-id-1 div.sk-item::before, #sk-container-id-1 div.sk-parallel-item::before {content: \"\";position: absolute;border-left: 1px solid gray;box-sizing: border-box;top: 0;bottom: 0;left: 50%;z-index: -1;}#sk-container-id-1 div.sk-parallel-item {display: flex;flex-direction: column;z-index: 1;position: relative;background-color: white;}#sk-container-id-1 div.sk-parallel-item:first-child::after {align-self: flex-end;width: 50%;}#sk-container-id-1 div.sk-parallel-item:last-child::after {align-self: flex-start;width: 50%;}#sk-container-id-1 div.sk-parallel-item:only-child::after {width: 0;}#sk-container-id-1 div.sk-dashed-wrapped {border: 1px dashed gray;margin: 0 0.4em 0.5em 0.4em;box-sizing: border-box;padding-bottom: 0.4em;background-color: white;}#sk-container-id-1 div.sk-label label {font-family: monospace;font-weight: bold;display: inline-block;line-height: 1.2em;}#sk-container-id-1 div.sk-label-container {text-align: center;}#sk-container-id-1 div.sk-container {/* jupyter's `normalize.less` sets `[hidden] { display: none; }` but bootstrap.min.css set `[hidden] { display: none !important; }` so we also need the `!important` here to be able to override the default hidden behavior on the sphinx rendered scikit-learn.org. See: https://github.com/scikit-learn/scikit-learn/issues/21755 */display: inline-block !important;position: relative;}#sk-container-id-1 div.sk-text-repr-fallback {display: none;}</style><div id=\"sk-container-id-1\" class=\"sk-top-container\"><div class=\"sk-text-repr-fallback\"><pre>DecisionTreeClassifier()</pre><b>In a Jupyter environment, please rerun this cell to show the HTML representation or trust the notebook. <br />On GitHub, the HTML representation is unable to render, please try loading this page with nbviewer.org.</b></div><div class=\"sk-container\" hidden><div class=\"sk-item\"><div class=\"sk-estimator sk-toggleable\"><input class=\"sk-toggleable__control sk-hidden--visually\" id=\"sk-estimator-id-1\" type=\"checkbox\" checked><label for=\"sk-estimator-id-1\" class=\"sk-toggleable__label sk-toggleable__label-arrow\">DecisionTreeClassifier</label><div class=\"sk-toggleable__content\"><pre>DecisionTreeClassifier()</pre></div></div></div></div></div>"
      ],
      "text/plain": [
       "DecisionTreeClassifier()"
      ]
     },
     "execution_count": 45,
     "metadata": {},
     "output_type": "execute_result"
    }
   ],
   "source": [
    "dtc = DecisionTreeClassifier()\n",
    "dtc.fit(X_res, y_res)"
   ]
  },
  {
   "cell_type": "code",
   "execution_count": 46,
   "id": "1b867765",
   "metadata": {
    "execution": {
     "iopub.execute_input": "2024-11-03T12:35:22.723568Z",
     "iopub.status.busy": "2024-11-03T12:35:22.723113Z",
     "iopub.status.idle": "2024-11-03T12:35:22.728410Z",
     "shell.execute_reply": "2024-11-03T12:35:22.727255Z"
    },
    "papermill": {
     "duration": 0.032466,
     "end_time": "2024-11-03T12:35:22.731008",
     "exception": false,
     "start_time": "2024-11-03T12:35:22.698542",
     "status": "completed"
    },
    "tags": []
   },
   "outputs": [],
   "source": [
    "import joblib"
   ]
  },
  {
   "cell_type": "code",
   "execution_count": 47,
   "id": "815da700",
   "metadata": {
    "execution": {
     "iopub.execute_input": "2024-11-03T12:35:22.782272Z",
     "iopub.status.busy": "2024-11-03T12:35:22.781833Z",
     "iopub.status.idle": "2024-11-03T12:35:22.793722Z",
     "shell.execute_reply": "2024-11-03T12:35:22.792301Z"
    },
    "papermill": {
     "duration": 0.041185,
     "end_time": "2024-11-03T12:35:22.796424",
     "exception": false,
     "start_time": "2024-11-03T12:35:22.755239",
     "status": "completed"
    },
    "tags": []
   },
   "outputs": [
    {
     "data": {
      "text/plain": [
       "['credit_card_model.pkl']"
      ]
     },
     "execution_count": 47,
     "metadata": {},
     "output_type": "execute_result"
    }
   ],
   "source": [
    "joblib.dump(dtc, \"credit_card_model.pkl\")"
   ]
  },
  {
   "cell_type": "code",
   "execution_count": 48,
   "id": "8f5a0062",
   "metadata": {
    "execution": {
     "iopub.execute_input": "2024-11-03T12:35:22.845443Z",
     "iopub.status.busy": "2024-11-03T12:35:22.844384Z",
     "iopub.status.idle": "2024-11-03T12:35:22.852715Z",
     "shell.execute_reply": "2024-11-03T12:35:22.851323Z"
    },
    "papermill": {
     "duration": 0.035535,
     "end_time": "2024-11-03T12:35:22.855416",
     "exception": false,
     "start_time": "2024-11-03T12:35:22.819881",
     "status": "completed"
    },
    "tags": []
   },
   "outputs": [],
   "source": [
    "model = joblib.load(\"credit_card_model.pkl\")"
   ]
  },
  {
   "cell_type": "code",
   "execution_count": 49,
   "id": "0cf8e2de",
   "metadata": {
    "execution": {
     "iopub.execute_input": "2024-11-03T12:35:22.904507Z",
     "iopub.status.busy": "2024-11-03T12:35:22.904014Z",
     "iopub.status.idle": "2024-11-03T12:35:22.915421Z",
     "shell.execute_reply": "2024-11-03T12:35:22.914170Z"
    },
    "papermill": {
     "duration": 0.039042,
     "end_time": "2024-11-03T12:35:22.918112",
     "exception": false,
     "start_time": "2024-11-03T12:35:22.879070",
     "status": "completed"
    },
    "tags": []
   },
   "outputs": [
    {
     "name": "stderr",
     "output_type": "stream",
     "text": [
      "/opt/conda/lib/python3.10/site-packages/sklearn/base.py:439: UserWarning: X does not have valid feature names, but DecisionTreeClassifier was fitted with feature names\n",
      "  warnings.warn(\n"
     ]
    }
   ],
   "source": [
    "pred = model.predict([[-1.3598071336738,-0.0727811733098497,2.53634673796914,1.37815522427443,-0.338320769942518,0.462387777762292,0.239598554061257,0.0986979012610507,0.363786969611213,0.0907941719789316,-0.551599533260813,-0.617800855762348,-0.991389847235408,-0.311169353699879,1.46817697209427,-0.470400525259478,0.207971241929242,0.0257905801985591,0.403992960255733,0.251412098239705,-0.018306777944153,0.277837575558899,-0.110473910188767,0.0669280749146731,0.128539358273528,-0.189114843888824,0.133558376740387,-0.0210530534538215,149.62]])"
   ]
  },
  {
   "cell_type": "code",
   "execution_count": 50,
   "id": "f4b3e01a",
   "metadata": {
    "execution": {
     "iopub.execute_input": "2024-11-03T12:35:22.967190Z",
     "iopub.status.busy": "2024-11-03T12:35:22.966408Z",
     "iopub.status.idle": "2024-11-03T12:35:22.974327Z",
     "shell.execute_reply": "2024-11-03T12:35:22.973148Z"
    },
    "papermill": {
     "duration": 0.03619,
     "end_time": "2024-11-03T12:35:22.977591",
     "exception": false,
     "start_time": "2024-11-03T12:35:22.941401",
     "status": "completed"
    },
    "tags": []
   },
   "outputs": [
    {
     "data": {
      "text/plain": [
       "0"
      ]
     },
     "execution_count": 50,
     "metadata": {},
     "output_type": "execute_result"
    }
   ],
   "source": [
    "pred[0]"
   ]
  },
  {
   "cell_type": "code",
   "execution_count": 51,
   "id": "b90d1381",
   "metadata": {
    "execution": {
     "iopub.execute_input": "2024-11-03T12:35:23.026787Z",
     "iopub.status.busy": "2024-11-03T12:35:23.026335Z",
     "iopub.status.idle": "2024-11-03T12:35:23.032429Z",
     "shell.execute_reply": "2024-11-03T12:35:23.031306Z"
    },
    "papermill": {
     "duration": 0.033666,
     "end_time": "2024-11-03T12:35:23.035044",
     "exception": false,
     "start_time": "2024-11-03T12:35:23.001378",
     "status": "completed"
    },
    "tags": []
   },
   "outputs": [
    {
     "name": "stdout",
     "output_type": "stream",
     "text": [
      "Normal Transcation\n"
     ]
    }
   ],
   "source": [
    "if pred[0] == 0:\n",
    "    print(\"Normal Transcation\")\n",
    "else:\n",
    "    print(\"Fraud Transcation\")"
   ]
  }
 ],
 "metadata": {
  "kaggle": {
   "accelerator": "none",
   "dataSources": [
    {
     "datasetId": 6000237,
     "sourceId": 9792045,
     "sourceType": "datasetVersion"
    }
   ],
   "dockerImageVersionId": 30786,
   "isGpuEnabled": false,
   "isInternetEnabled": false,
   "language": "python",
   "sourceType": "notebook"
  },
  "kernelspec": {
   "display_name": "Python 3",
   "language": "python",
   "name": "python3"
  },
  "language_info": {
   "codemirror_mode": {
    "name": "ipython",
    "version": 3
   },
   "file_extension": ".py",
   "mimetype": "text/x-python",
   "name": "python",
   "nbconvert_exporter": "python",
   "pygments_lexer": "ipython3",
   "version": "3.10.14"
  },
  "papermill": {
   "default_parameters": {},
   "duration": 509.844954,
   "end_time": "2024-11-03T12:35:23.783880",
   "environment_variables": {},
   "exception": null,
   "input_path": "__notebook__.ipynb",
   "output_path": "__notebook__.ipynb",
   "parameters": {},
   "start_time": "2024-11-03T12:26:53.938926",
   "version": "2.6.0"
  }
 },
 "nbformat": 4,
 "nbformat_minor": 5
}
